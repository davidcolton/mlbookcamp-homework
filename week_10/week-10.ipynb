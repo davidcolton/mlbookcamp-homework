{
 "cells": [
  {
   "cell_type": "code",
   "execution_count": null,
   "metadata": {},
   "outputs": [],
   "source": []
  },
  {
   "cell_type": "markdown",
   "metadata": {},
   "source": [
    "--- \n",
    "\n",
    "# Learning in Public\n",
    "\n",
    "* https://twitter.com/David__Colton/status/1596885588787232768?s=20&t=UBlFEOiIfqpEhq8t3fgL2Q\n",
    "* https://twitter.com/David__Colton/status/1597907294456410112?s=20&t=OQDoaTa8n9LvSmuY3OnR7g\n",
    "* https://twitter.com/David__Colton/status/1597959958435311618?s=20&t=Xr49Dny5P06JBWUxuLPLvw\n",
    "* https://twitter.com/David__Colton/status/1598821617362141187?s=20&t=WmStBJ_lIyolgmcurJ99Bg\n",
    "* https://twitter.com/David__Colton/status/1598826135495839744?s=20&t=d4x_yV0QY-0is4ZiUKhtOA\n",
    "* https://twitter.com/David__Colton/status/1599029514415136768?s=20&t=sdAwc4i3tXlwh4yOVjGZtQ\n",
    "* https://twitter.com/David__Colton/status/1599198691583488000?s=20&t=8r1ibpWwohPMTkN0r4RzkQ\n",
    "* https://twitter.com/David__Colton/status/1599357081131225088?s=20&t=x9voA115DcEUG-YOyovK2A\n",
    "* https://twitter.com/David__Colton/status/1599358599288872960?s=20&t=UT2ypaYuUNRpXZml7qWalA"
   ]
  },
  {
   "cell_type": "markdown",
   "metadata": {},
   "source": []
  }
 ],
 "metadata": {
  "kernelspec": {
   "display_name": "Python 3.10.8 64-bit ('3.10.8')",
   "language": "python",
   "name": "python3"
  },
  "language_info": {
   "name": "python",
   "version": "3.10.8"
  },
  "orig_nbformat": 4,
  "vscode": {
   "interpreter": {
    "hash": "db59280c26d2ffdda61a5290b6df8e5167d0bf3455f08338ea7a8519196e0062"
   }
  }
 },
 "nbformat": 4,
 "nbformat_minor": 2
}
