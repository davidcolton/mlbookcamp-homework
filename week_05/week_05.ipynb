{
 "cells": [
  {
   "cell_type": "markdown",
   "id": "271cc289-37f7-43c8-9783-d6cd1ce49ed4",
   "metadata": {},
   "source": [
    "# Set up the environment\n",
    "\n",
    "You need to install Python, NumPy, Pandas, Matplotlib and Seaborn.\n",
    "\n",
    "Done and ready to go."
   ]
  },
  {
   "cell_type": "markdown",
   "id": "4b728f44-a07c-4a91-b32c-136f0558f838",
   "metadata": {
    "tags": []
   },
   "source": [
    "## Imports"
   ]
  },
  {
   "cell_type": "code",
   "execution_count": 1,
   "id": "a09bd98c-8f06-443e-ad99-9ae714cfa782",
   "metadata": {},
   "outputs": [
    {
     "data": {
      "text/html": [
       "\n",
       "                <script type=\"application/javascript\" id=\"jupyter_black\">\n",
       "                (function() {\n",
       "                    if (window.IPython === undefined) {\n",
       "                        return\n",
       "                    }\n",
       "                    var msg = \"WARNING: it looks like you might have loaded \" +\n",
       "                        \"jupyter_black in a non-lab notebook with \" +\n",
       "                        \"`is_lab=True`. Please double check, and if \" +\n",
       "                        \"loading with `%load_ext` please review the README!\"\n",
       "                    console.log(msg)\n",
       "                    alert(msg)\n",
       "                })()\n",
       "                </script>\n",
       "                "
      ],
      "text/plain": [
       "<IPython.core.display.HTML object>"
      ]
     },
     "metadata": {},
     "output_type": "display_data"
    }
   ],
   "source": [
    "import jupyter_black\n",
    "jupyter_black.load()"
   ]
  },
  {
   "cell_type": "code",
   "execution_count": 9,
   "id": "bdcce0d7-bba0-473a-ae83-4cabb0406c03",
   "metadata": {},
   "outputs": [],
   "source": [
    "import numpy as np\n",
    "import pandas as pd\n",
    "\n",
    "import pickle\n",
    "\n",
    "import seaborn as sns\n",
    "from matplotlib import pyplot as plt\n",
    "\n",
    "from sklearn.feature_extraction import DictVectorizer\n",
    "from sklearn.linear_model import LogisticRegression\n",
    "from sklearn.linear_model import Ridge\n",
    "from sklearn.metrics import mean_squared_error\n",
    "from sklearn.metrics import mutual_info_score\n",
    "from sklearn.metrics import roc_auc_score\n",
    "from sklearn.metrics import roc_curve\n",
    "from sklearn.model_selection import KFold\n",
    "from sklearn.model_selection import train_test_split\n",
    "\n",
    "\n",
    "%matplotlib inline"
   ]
  },
  {
   "cell_type": "markdown",
   "id": "c8eabfa9-00ef-46a9-b020-e02c1ed1bf1d",
   "metadata": {},
   "source": [
    "---\n",
    "\n",
    "## Homework\n",
    "\n",
    "In this homework, we will use Credit Card Data from [the previous homework](https://github.com/alexeygrigorev/mlbookcamp-code/blob/master/course-zoomcamp/cohorts/2022/04-evaluation/homework.md).\n",
    "\n",
    "> Note: sometimes your answer doesn't match one of the options exactly. That's fine. \n",
    "Select the option that's closest to your solution.\n",
    "\n",
    "---\n",
    "\n",
    "## Question 1\n",
    "\n",
    "* Install Pipenv\n",
    "* What's the version of pipenv you installed?\n",
    "* Use `--version` to find out"
   ]
  },
  {
   "cell_type": "code",
   "execution_count": 2,
   "id": "65363546-9268-4f08-9dc4-95b7b54306d1",
   "metadata": {},
   "outputs": [
    {
     "name": "stdout",
     "output_type": "stream",
     "text": [
      "\u001b[1mpipenv\u001b[0m, version 2022.10.4\n",
      "\u001b[0m"
     ]
    }
   ],
   "source": [
    "!pipenv --version"
   ]
  },
  {
   "cell_type": "markdown",
   "id": "46786c66-d35b-400b-9d73-16cb317f4b27",
   "metadata": {},
   "source": [
    "---\n",
    "\n",
    "## Question 2\n",
    "\n",
    "* Use Pipenv to install Scikit-Learn version 1.0.2\n",
    "* What's the first hash for scikit-learn you get in Pipfile.lock?\n",
    "\n",
    "Note: you should create an empty folder for homework\n",
    "and do it there."
   ]
  },
  {
   "cell_type": "markdown",
   "id": "50a4973d-d537-45e5-a35c-ea6652b4c48b",
   "metadata": {},
   "source": [
    "`sha256:08ef968f6b72033c16c479c966bf37ccd49b06ea91b765e1cc27afefe723920b`"
   ]
  },
  {
   "cell_type": "markdown",
   "id": "b66f54c7-6f17-448a-bde8-bfdd561bceff",
   "metadata": {},
   "source": [
    "---\n",
    "\n",
    "## Models\n",
    "\n",
    "We've prepared a dictionary vectorizer and a model.\n",
    "\n",
    "They were trained (roughly) using this code:\n",
    "\n",
    "```python\n",
    "features = ['reports', 'share', 'expenditure', 'owner']\n",
    "dicts = df[features].to_dict(orient='records')\n",
    "\n",
    "dv = DictVectorizer(sparse=False)\n",
    "X = dv.fit_transform(dicts)\n",
    "\n",
    "model = LogisticRegression(solver='liblinear').fit(X, y)\n",
    "```\n",
    "\n",
    "> **Note**: You don't need to train the model. This code is just for your reference.\n",
    "\n",
    "And then saved with Pickle. Download them:\n",
    "\n",
    "* [DictVectorizer](https://github.com/alexeygrigorev/mlbookcamp-code/blob/master/course-zoomcamp/cohorts/2022/05-deployment/homework/dv.bin?raw=true)\n",
    "* [LogisticRegression](https://github.com/alexeygrigorev/mlbookcamp-code/blob/master/course-zoomcamp/cohorts/2022/05-deployment/homework/model1.bin?raw=true)\n",
    "\n",
    "With `wget`:\n",
    "\n",
    "```bash\n",
    "PREFIX=https://raw.githubusercontent.com/alexeygrigorev/mlbookcamp-code/master/course-zoomcamp/cohorts/2022/05-deployment/homework\n",
    "wget $PREFIX/model1.bin\n",
    "wget $PREFIX/dv.bin\n",
    "```"
   ]
  },
  {
   "cell_type": "code",
   "execution_count": 3,
   "id": "50190ddd-39e0-4a5c-8cc1-5453a0cbfe75",
   "metadata": {},
   "outputs": [
    {
     "data": {
      "text/plain": [
       "'/Users/davidcolton/git/github/mlbookcamp-homework/week_05'"
      ]
     },
     "execution_count": 3,
     "metadata": {},
     "output_type": "execute_result"
    }
   ],
   "source": [
    "%pwd"
   ]
  },
  {
   "cell_type": "code",
   "execution_count": 4,
   "id": "12390639-122c-44cc-a094-0534cf824e94",
   "metadata": {},
   "outputs": [
    {
     "name": "stdout",
     "output_type": "stream",
     "text": [
      "/Users/davidcolton/git/github/mlbookcamp-homework/week_05/homework\n"
     ]
    }
   ],
   "source": [
    "%cd \"./homework\""
   ]
  },
  {
   "cell_type": "code",
   "execution_count": 8,
   "id": "861dd07e-0bca-48ba-8c67-48b8af4c7811",
   "metadata": {},
   "outputs": [
    {
     "name": "stdout",
     "output_type": "stream",
     "text": [
      "--2022-10-06 17:02:10--  https://raw.githubusercontent.com/alexeygrigorev/mlbookcamp-code/master/course-zoomcamp/cohorts/2022/05-deployment/homework/model1.bin\n",
      "Resolving raw.githubusercontent.com (raw.githubusercontent.com)... 185.199.110.133, 185.199.109.133, 185.199.111.133, ...\n",
      "Connecting to raw.githubusercontent.com (raw.githubusercontent.com)|185.199.110.133|:443... connected.\n",
      "HTTP request sent, awaiting response... 200 OK\n",
      "Length: 889 [application/octet-stream]\n",
      "Saving to: ‘model1.bin’\n",
      "\n",
      "model1.bin          100%[===================>]     889  --.-KB/s    in 0s      \n",
      "\n",
      "2022-10-06 17:02:10 (23.6 MB/s) - ‘model1.bin’ saved [889/889]\n",
      "\n",
      "--2022-10-06 17:02:10--  https://raw.githubusercontent.com/alexeygrigorev/mlbookcamp-code/master/course-zoomcamp/cohorts/2022/05-deployment/homework/dv.bin\n",
      "Resolving raw.githubusercontent.com (raw.githubusercontent.com)... 185.199.111.133, 185.199.108.133, 185.199.109.133, ...\n",
      "Connecting to raw.githubusercontent.com (raw.githubusercontent.com)|185.199.111.133|:443... connected.\n",
      "HTTP request sent, awaiting response... 200 OK\n",
      "Length: 333 [application/octet-stream]\n",
      "Saving to: ‘dv.bin’\n",
      "\n",
      "dv.bin              100%[===================>]     333  --.-KB/s    in 0s      \n",
      "\n",
      "2022-10-06 17:02:10 (7.75 MB/s) - ‘dv.bin’ saved [333/333]\n",
      "\n"
     ]
    }
   ],
   "source": [
    "PREFIX = \"https://raw.githubusercontent.com/alexeygrigorev/mlbookcamp-code/master/course-zoomcamp/cohorts/2022/05-deployment/homework\"\n",
    "model_path = f\"{PREFIX}/model1.bin\"\n",
    "dv_path = f\"{PREFIX}/dv.bin\"\n",
    "!wget $model_path\n",
    "!wget $dv_path"
   ]
  },
  {
   "cell_type": "code",
   "execution_count": 10,
   "id": "e4efa3a4-cd0f-40f0-bd6b-0ffa35759a42",
   "metadata": {},
   "outputs": [
    {
     "name": "stdout",
     "output_type": "stream",
     "text": [
      "/Users/davidcolton/git/github/mlbookcamp-homework/week_05\n"
     ]
    }
   ],
   "source": [
    "%cd \"..\""
   ]
  },
  {
   "cell_type": "markdown",
   "id": "1f406cfa-21e5-47a2-a2ac-1db91d7c4e44",
   "metadata": {},
   "source": [
    "---\n",
    "\n",
    "## Question 3\n",
    "\n",
    "Let's use these models!\n",
    "\n",
    "* Write a script for loading these models with pickle\n",
    "* Score this client:\n",
    "\n",
    "```json\n",
    "{\"reports\": 0, \"share\": 0.001694, \"expenditure\": 0.12, \"owner\": \"yes\"}\n",
    "```\n",
    "\n",
    "What's the probability that this client will get a credit card? \n",
    "\n",
    "* **0.162**\n",
    "* 0.391\n",
    "* 0.601\n",
    "* 0.993\n",
    "\n",
    "If you're getting errors when unpickling the files, check their checksum:\n",
    "\n",
    "```bash\n",
    "$ md5sum model1.bin dv.bin\n",
    "3f57f3ebfdf57a9e1368dcd0f28a4a14  model1.bin\n",
    "6b7cded86a52af7e81859647fa3a5c2e  dv.bin\n",
    "```"
   ]
  },
  {
   "cell_type": "code",
   "execution_count": 18,
   "id": "ebe729d3-dc27-469a-be69-545b44848e7e",
   "metadata": {},
   "outputs": [
    {
     "name": "stderr",
     "output_type": "stream",
     "text": [
      "/Users/davidcolton/.pyenv/versions/3.10.4/lib/python3.10/site-packages/sklearn/base.py:329: UserWarning: Trying to unpickle estimator LogisticRegression from version 1.0.2 when using version 1.1.2. This might lead to breaking code or invalid results. Use at your own risk. For more info please refer to:\n",
      "https://scikit-learn.org/stable/model_persistence.html#security-maintainability-limitations\n",
      "  warnings.warn(\n",
      "/Users/davidcolton/.pyenv/versions/3.10.4/lib/python3.10/site-packages/sklearn/base.py:329: UserWarning: Trying to unpickle estimator DictVectorizer from version 1.0.2 when using version 1.1.2. This might lead to breaking code or invalid results. Use at your own risk. For more info please refer to:\n",
      "https://scikit-learn.org/stable/model_persistence.html#security-maintainability-limitations\n",
      "  warnings.warn(\n"
     ]
    }
   ],
   "source": [
    "# The model file\n",
    "model_file = \"./homework/model1.bin\"\n",
    "\n",
    "# Read in model and Dict Vextorizer\n",
    "with open(model_file, \"rb\") as fm:\n",
    "    model = pickle.load(fm)\n",
    "    \n",
    "# The DictVectorizer file\n",
    "dv_file = \"./homework/dv.bin\"\n",
    "\n",
    "# Read in model and Dict Vextorizer\n",
    "with open(dv_file, \"rb\") as fd:\n",
    "    dv = pickle.load(fd)"
   ]
  },
  {
   "cell_type": "code",
   "execution_count": 20,
   "id": "21580a24-97eb-4da2-89d2-0c1bc84d0caf",
   "metadata": {},
   "outputs": [],
   "source": [
    "# The client to score\n",
    "client = {\"reports\": 0, \n",
    "          \"share\": 0.001694,\n",
    "          \"expenditure\": 0.12, \n",
    "          \"owner\": \"yes\",}"
   ]
  },
  {
   "cell_type": "code",
   "execution_count": 21,
   "id": "bf498b29-526b-4187-a56a-aa969956c109",
   "metadata": {},
   "outputs": [],
   "source": [
    "# Create DictVevtor of client\n",
    "X = dv.transform([client])"
   ]
  },
  {
   "cell_type": "code",
   "execution_count": 23,
   "id": "9a26e057-d95f-425b-9ef0-c69ad14e2027",
   "metadata": {},
   "outputs": [
    {
     "data": {
      "text/plain": [
       "0.16213414434326598"
      ]
     },
     "execution_count": 23,
     "metadata": {},
     "output_type": "execute_result"
    }
   ],
   "source": [
    "# Predict the client\n",
    "model.predict_proba(X)[0, 1]"
   ]
  },
  {
   "cell_type": "markdown",
   "id": "7abc41b7-2be5-4418-8339-72e419b4e7aa",
   "metadata": {},
   "source": [
    "```\n",
    "(homework)\n",
    "mlbookcamp-homework/week_05/homework  main ✗                                                                        4d16h ◒\n",
    "\n",
    "▶ python q3.py\n",
    "Prediction: 0.162\n",
    "```"
   ]
  },
  {
   "cell_type": "markdown",
   "id": "5c773693-0870-4473-8d69-94af65f3359b",
   "metadata": {},
   "source": [
    "---\n",
    "## Question 4\n",
    "\n",
    "Now let's serve this model as a web service\n",
    "\n",
    "* Install Flask and gunicorn (or waitress, if you're on Windows)\n",
    "* Write Flask code for serving the model\n",
    "* Now score this client using `requests`:\n",
    "\n",
    "```python\n",
    "url = \"YOUR_URL\"\n",
    "client = {\"reports\": 0, \"share\": 0.245, \"expenditure\": 3.438, \"owner\": \"yes\"}\n",
    "requests.post(url, json=client).json()\n",
    "```\n",
    "\n",
    "What's the probability that this client will get a credit card?\n",
    "\n",
    "* 0.274\n",
    "* 0.484\n",
    "* 0.698\n",
    "* **0.928**"
   ]
  },
  {
   "cell_type": "markdown",
   "id": "62097b0d-666d-4a51-98a6-fadff8ba05cf",
   "metadata": {},
   "source": [
    "```\n",
    "(homework)\n",
    "mlbookcamp-homework/week_05/homework  main ✗                                                                        4d16h ◒\n",
    "▶ python q4_flask.py\n",
    " * Serving Flask app 'churn'\n",
    " * Debug mode: on\n",
    "WARNING: This is a development server. Do not use it in a production deployment. Use a production WSGI server instead.\n",
    " * Running on all addresses (0.0.0.0)\n",
    " * Running on http://127.0.0.1:9696\n",
    " * Running on http://192.168.68.73:9696\n",
    "Press CTRL+C to quit\n",
    " * Restarting with stat\n",
    " * Debugger is active!\n",
    " * Debugger PIN: 208-714-865\n",
    "127.0.0.1 - - [06/Oct/2022 17:52:21] \"POST /predict HTTP/1.1\" 200 -\n",
    "```"
   ]
  },
  {
   "cell_type": "markdown",
   "id": "f2df443e-51f9-4f3d-9c0d-b6fac9d702b4",
   "metadata": {},
   "source": [
    "```\n",
    "mlbookcamp-homework/week_05/homework  main ✗                                                                        4d16h ◒\n",
    "▶ python q4_test.py\n",
    "{'churn': True, 'churn_probability': 0.9282218018527452}\n",
    "```"
   ]
  },
  {
   "cell_type": "markdown",
   "id": "3713646d-e9dc-4129-a7b1-a620ce1e7732",
   "metadata": {},
   "source": [
    "---\n",
    "\n",
    "## Docker\n",
    "\n",
    "Install [Docker](https://github.com/alexeygrigorev/mlbookcamp-code/blob/master/course-zoomcamp/05-deployment/06-docker.md). We will use it for the next two questions.\n",
    "\n",
    "For these questions, we prepared a base image: `svizor/zoomcamp-model:3.9.12-slim`. \n",
    "You'll need to use it (see Question 5 for an example).\n",
    "\n",
    "This image is based on `python:3.9.12-slim` and has a logistic regression model \n",
    "(a different one) as well a dictionary vectorizer inside. \n",
    "\n",
    "This is how the Dockerfile for this image looks like:\n",
    "\n",
    "```docker \n",
    "FROM python:3.9.12-slim\n",
    "WORKDIR /app\n",
    "COPY [\"model2.bin\", \"dv.bin\", \"./\"]\n",
    "```\n",
    "\n",
    "We already built it and then pushed it to [`svizor/zoomcamp-model:3.9.12-slim`](https://hub.docker.com/r/svizor/zoomcamp-model).\n",
    "\n",
    "> **Note**: You don't need to build this docker image, it's just for your reference."
   ]
  },
  {
   "cell_type": "markdown",
   "id": "2f96ffec-88cd-4832-b33c-8455668876cf",
   "metadata": {},
   "source": [
    "---\n",
    "\n",
    "## Question 5\n",
    "\n",
    "Download the base image `svizor/zoomcamp-model:3.9.12-slim`. You can easily make it by using [docker pull](https://docs.docker.com/engine/reference/commandline/pull/) command.\n",
    "\n",
    "So what's the size of this base image?\n",
    "\n",
    "* 15 Mb\n",
    "* **125 Mb**\n",
    "* 275 Mb\n",
    "* 415 Mb\n",
    "\n",
    "You can get this information when running `docker images` - it'll be in the \"SIZE\" column."
   ]
  },
  {
   "cell_type": "markdown",
   "id": "10e26444-880f-42fb-bb0b-72d5dfd18c80",
   "metadata": {},
   "source": [
    "```\n",
    "mlbookcamp-homework/week_05/homework  main ✗                                                                        4d22h ◒\n",
    "▶ docker images\n",
    "REPOSITORY              TAG           IMAGE ID       CREATED       SIZE\n",
    "svizor/zoomcamp-model   3.9.12-slim   571a6fdc554b   4 days ago    125MB\n",
    "ml-zoomcamp             latest        9350f5e3bc8c   4 weeks ago   8.12GB\n",
    "```"
   ]
  },
  {
   "cell_type": "markdown",
   "id": "aff9d777-d531-415e-8f43-12549801e670",
   "metadata": {},
   "source": [
    "---\n",
    "\n",
    "## Dockerfile\n",
    "\n",
    "Now create your own Dockerfile based on the image we prepared.\n",
    "\n",
    "It should start like that:\n",
    "\n",
    "```docker\n",
    "FROM svizor/zoomcamp-model:3.9.12-slim\n",
    "# add your stuff here\n",
    "```\n",
    "\n",
    "Now complete it:\n",
    "\n",
    "* Install all the dependencies form the Pipenv file\n",
    "* Copy your Flask script\n",
    "* Run it with Gunicorn \n",
    "\n",
    "After that, you can build your docker image."
   ]
  },
  {
   "cell_type": "markdown",
   "id": "ecab0fc1-5061-4480-b6b6-c320682d30d6",
   "metadata": {},
   "source": [
    "---\n",
    "\n",
    "## Question 6\n",
    "\n",
    "Let's run your docker container!\n",
    "\n",
    "After running it, score this client once again:\n",
    "\n",
    "```python\n",
    "url = \"YOUR_URL\"\n",
    "client = {\"reports\": 0, \"share\": 0.245, \"expenditure\": 3.438, \"owner\": \"yes\"}\n",
    "requests.post(url, json=client).json()\n",
    "```\n",
    "\n",
    "What's the probability that this client will get a credit card now?\n",
    "\n",
    "* 0.289\n",
    "* 0.502\n",
    "* **0.769**\n",
    "* 0.972"
   ]
  },
  {
   "cell_type": "markdown",
   "id": "f04a2862-9bd4-4cd1-b6a0-01c032af5ee5",
   "metadata": {},
   "source": [
    "```\n",
    "(week_05)\n",
    "github/mlbookcamp-homework/week_05  main ✗                                                                          4d22h ◒\n",
    "▶ docker run -it --rm -p 9696:9696 q6-week05\n",
    "WARNING: The requested image's platform (linux/amd64) does not match the detected host platform (linux/arm64/v8) and no specific platform was requested\n",
    "[2022-10-06 22:27:48 +0000] [1] [INFO] Starting gunicorn 20.1.0\n",
    "[2022-10-06 22:27:48 +0000] [1] [INFO] Listening at: http://0.0.0.0:9696 (1)\n",
    "[2022-10-06 22:27:48 +0000] [1] [INFO] Using worker: sync\n",
    "[2022-10-06 22:27:48 +0000] [8] [INFO] Booting worker with pid: 8\n",
    "```\n",
    "\n",
    "```\n",
    "(homework)\n",
    "mlbookcamp-homework/week_05/homework  main ✗                                                                        4d22h ◒\n",
    "▶ python q6_test.py\n",
    "{'churn': True, 'churn_probability': 0.7692649226628628}\n",
    "```"
   ]
  },
  {
   "cell_type": "markdown",
   "id": "6cd5cc81-9590-4b7e-8192-ec18eae83f6a",
   "metadata": {},
   "source": [
    "---\n",
    "\n",
    "## Submit the results\n",
    "\n",
    "* Submit your results here: https://forms.gle/jU2we8f9WeLgX3qa6\n",
    "* You can submit your solution multiple times. In this case, only the last submission will be used \n",
    "* If your answer doesn't match options exactly, select the closest one\n",
    "\n",
    "\n",
    "## Deadline\n",
    "\n",
    "The deadline for submitting is **10 October 2022 (Monday), 23:00 CEST (Berlin time)**. \n",
    "\n",
    "After that, the form will be closed."
   ]
  },
  {
   "cell_type": "markdown",
   "id": "a2250c4d-ff24-4e25-a1d5-d7af6a7b6b24",
   "metadata": {},
   "source": [
    "---\n",
    "\n",
    "# Learning in Publin\n",
    "\n",
    "* https://twitter.com/David__Colton/status/1576364788053004288?s=20&t=8JD-Sn-Y1Kxi12t4N6_LqQ\n",
    "* https://twitter.com/David__Colton/status/1576519724543811584?s=20&t=SdNTxJ6pyDPzSMCAQa0FTw\n",
    "* https://twitter.com/David__Colton/status/1576560687417262080?s=20&t=XBa9sEeXAuD9Tk_V_S9pSQ\n",
    "* https://twitter.com/David__Colton/status/1576573328806268928?s=20&t=faOvvCLuCb93Gz6CZ12SEw\n",
    "* https://twitter.com/David__Colton/status/1576705300278939649?s=20&t=E_WEpToDsOPWXdr31Iu55Q\n",
    "* https://twitter.com/David__Colton/status/1577057996697669632?s=20&t=7-BKWo1gzO-OCwSMY5TrvQ\n",
    "* https://twitter.com/David__Colton/status/1577420741284347905?s=20&t=xYlzI9HIGkyQvUxv4yBxKQ\n",
    "* https://twitter.com/David__Colton/status/1577421939131682816?s=20&t=0bfJNxPv27WzmemQdAlgog"
   ]
  },
  {
   "cell_type": "code",
   "execution_count": null,
   "id": "9c85f327-03c2-474d-8979-7bcca7d78c0f",
   "metadata": {},
   "outputs": [],
   "source": []
  }
 ],
 "metadata": {
  "kernelspec": {
   "display_name": "Python 3 (ipykernel)",
   "language": "python",
   "name": "python3"
  },
  "language_info": {
   "codemirror_mode": {
    "name": "ipython",
    "version": 3
   },
   "file_extension": ".py",
   "mimetype": "text/x-python",
   "name": "python",
   "nbconvert_exporter": "python",
   "pygments_lexer": "ipython3",
   "version": "3.10.4"
  }
 },
 "nbformat": 4,
 "nbformat_minor": 5
}
