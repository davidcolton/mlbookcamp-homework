{
 "cells": [
  {
   "cell_type": "markdown",
   "id": "0eb5cc21-c6f6-4a82-8cd7-8ddc607d13df",
   "metadata": {},
   "source": [
    "# Set up the environment\n",
    "\n",
    "You need to install Python, NumPy, Pandas, Matplotlib and Seaborn.\n",
    "\n",
    "Done and ready to go."
   ]
  },
  {
   "cell_type": "markdown",
   "id": "dd180304-e15f-473e-b2f7-ecfb82c7c915",
   "metadata": {
    "tags": []
   },
   "source": [
    "## Imports"
   ]
  },
  {
   "cell_type": "code",
   "execution_count": 1,
   "id": "33de731b-b290-417e-80cd-3f9ade0e975a",
   "metadata": {},
   "outputs": [
    {
     "data": {
      "text/html": [
       "\n",
       "                <script type=\"application/javascript\" id=\"jupyter_black\">\n",
       "                (function() {\n",
       "                    if (window.IPython === undefined) {\n",
       "                        return\n",
       "                    }\n",
       "                    var msg = \"WARNING: it looks like you might have loaded \" +\n",
       "                        \"jupyter_black in a non-lab notebook with \" +\n",
       "                        \"`is_lab=True`. Please double check, and if \" +\n",
       "                        \"loading with `%load_ext` please review the README!\"\n",
       "                    console.log(msg)\n",
       "                    alert(msg)\n",
       "                })()\n",
       "                </script>\n",
       "                "
      ],
      "text/plain": [
       "<IPython.core.display.HTML object>"
      ]
     },
     "metadata": {},
     "output_type": "display_data"
    }
   ],
   "source": [
    "import jupyter_black\n",
    "\n",
    "jupyter_black.load()"
   ]
  },
  {
   "cell_type": "code",
   "execution_count": 2,
   "id": "5dd84eb2-4bc7-4a03-9e8f-b3fae4f21bb8",
   "metadata": {},
   "outputs": [],
   "source": [
    "import numpy as np\n",
    "import pandas as pd\n",
    "\n",
    "import seaborn as sns\n",
    "from matplotlib import pyplot as plt\n",
    "\n",
    "%matplotlib inline"
   ]
  },
  {
   "cell_type": "markdown",
   "id": "67706439-2d1d-41a1-bbca-c5c4f9594c1e",
   "metadata": {
    "tags": []
   },
   "source": [
    "---\n",
    "\n",
    "## Simple Linear Regression\n",
    "\n",
    "Regularisation is **not** included."
   ]
  },
  {
   "cell_type": "code",
   "execution_count": 3,
   "id": "45742d91-f472-49f6-8301-39776a5d600b",
   "metadata": {
    "tags": []
   },
   "outputs": [],
   "source": [
    "def simple_train_linear_regression(X, y):\n",
    "    ones = np.ones(X.shape[0])\n",
    "    X = np.column_stack([ones, X])\n",
    "\n",
    "    XTX = X.T.dot(X)\n",
    "    XTX_inv = np.linalg.inv(XTX)\n",
    "    w = XTX_inv.dot(X.T).dot(y)\n",
    "\n",
    "    return w[0], w[1:]"
   ]
  },
  {
   "cell_type": "markdown",
   "id": "a5870884-b6cd-454e-8143-959f24a519e8",
   "metadata": {
    "tags": []
   },
   "source": [
    "---\n",
    "\n",
    "## Linear Regression\n",
    "\n",
    "Regularisation is included and is passed in as a parameter."
   ]
  },
  {
   "cell_type": "code",
   "execution_count": 4,
   "id": "9095f671-92f9-4db5-8071-71d2e28de26b",
   "metadata": {
    "tags": []
   },
   "outputs": [],
   "source": [
    "def reg_train_linear_regression(X, y, r=0.0):\n",
    "    ones = np.ones(X.shape[0])\n",
    "    X = np.column_stack([ones, X])\n",
    "\n",
    "    XTX = X.T.dot(X)\n",
    "    reg = r * np.eye(XTX.shape[0])\n",
    "    XTX = XTX + reg\n",
    "\n",
    "    XTX_inv = np.linalg.inv(XTX)\n",
    "    w = XTX_inv.dot(X.T).dot(y)\n",
    "\n",
    "    return w[0], w[1:]"
   ]
  },
  {
   "cell_type": "markdown",
   "id": "ebc1f6ad-cf50-4052-bcb4-1a7d8d52abdb",
   "metadata": {},
   "source": [
    "---\n",
    "\n",
    "## Root Mean Squared Error"
   ]
  },
  {
   "cell_type": "code",
   "execution_count": 5,
   "id": "ba3ce401-8b9b-4665-a1ac-588cbaefc55b",
   "metadata": {},
   "outputs": [],
   "source": [
    "def rmse(y, y_pred):\n",
    "    error = y_pred - y\n",
    "    mse = (error**2).mean()\n",
    "    return np.sqrt(mse)"
   ]
  },
  {
   "cell_type": "markdown",
   "id": "0cedc395-c8c9-4a9a-8c6b-c86d3b05a5f1",
   "metadata": {},
   "source": [
    "---\n",
    "\n",
    "## Getting the data \n",
    "\n",
    "In this homework, we will use the California Housing Prices from Kaggle. Download it from \n",
    "[here](https://raw.githubusercontent.com/alexeygrigorev/datasets/master/housing.csv).\n",
    "\n",
    "You can do it with wget:"
   ]
  },
  {
   "cell_type": "code",
   "execution_count": 6,
   "id": "4c5944c5-ed8a-49d0-9b8c-6820dfdd7dc3",
   "metadata": {},
   "outputs": [
    {
     "name": "stdout",
     "output_type": "stream",
     "text": [
      "--2022-09-16 22:58:25--  https://raw.githubusercontent.com/alexeygrigorev/datasets/master/housing.csv\n",
      "Resolving raw.githubusercontent.com (raw.githubusercontent.com)... 185.199.110.133, 185.199.109.133, 185.199.111.133, ...\n",
      "Connecting to raw.githubusercontent.com (raw.githubusercontent.com)|185.199.110.133|:443... connected.\n",
      "HTTP request sent, awaiting response... 200 OK\n",
      "Length: 1423529 (1.4M) [text/plain]\n",
      "Saving to: ‘housing.csv.2’\n",
      "\n",
      "housing.csv.2       100%[===================>]   1.36M  8.96MB/s    in 0.2s    \n",
      "\n",
      "2022-09-16 22:58:25 (8.96 MB/s) - ‘housing.csv.2’ saved [1423529/1423529]\n",
      "\n"
     ]
    }
   ],
   "source": [
    "!wget \"https://raw.githubusercontent.com/alexeygrigorev/datasets/master/housing.csv\""
   ]
  },
  {
   "cell_type": "markdown",
   "id": "62d4cbc8-fed4-4443-9217-7ae2289ed542",
   "metadata": {
    "tags": []
   },
   "source": [
    "---"
   ]
  },
  {
   "cell_type": "markdown",
   "id": "d414d4c6-9b5a-4261-87cf-8e771e65fd0f",
   "metadata": {},
   "source": [
    "## EDA\n",
    "\n",
    "* Look at the data\n",
    "* Look at the `median_house_value` variable. Does it have a long tail?\n",
    "\n",
    "Yes the median house value has a somewhat long tail"
   ]
  },
  {
   "cell_type": "code",
   "execution_count": 7,
   "id": "bc9f373a-7f9e-4fb4-96d9-6bf69d530818",
   "metadata": {},
   "outputs": [],
   "source": [
    "df_housing = pd.read_csv(\"housing.csv\")"
   ]
  },
  {
   "cell_type": "code",
   "execution_count": 8,
   "id": "aa4a1f57-d7e0-4089-8ab0-1e0e0519cdff",
   "metadata": {},
   "outputs": [
    {
     "data": {
      "image/png": "[encoded data removed]",
      "text/plain": [
       "<Figure size 432x288 with 1 Axes>"
      ]
     },
     "metadata": {
      "needs_background": "light"
     },
     "output_type": "display_data"
    }
   ],
   "source": [
    "# Look at the distribution of `median_house_value`\n",
    "sns.histplot(df_housing.median_house_value, bins=100, alpha=0.8)\n",
    "plt.ylabel(\"Frequency\")\n",
    "plt.xlabel(\"House Value\")\n",
    "plt.title(\"Distribution of Median House Value\")\n",
    "plt.show()"
   ]
  },
  {
   "cell_type": "markdown",
   "id": "603335bc-a65d-4692-ab0f-37fe3385cc4c",
   "metadata": {},
   "source": [
    "---\n",
    "\n",
    "## Features\n",
    "\n",
    "For the rest of the homework, you'll need to use only these columns:\n",
    "\n",
    "* `latitude`\n",
    "* `longitude`\n",
    "* `housing_median_age`\n",
    "* `total_rooms`\n",
    "* `total_bedrooms`\n",
    "* `population`\n",
    "* `households`\n",
    "* `median_income`\n",
    "* `median_house_value`\n",
    "\n",
    "Select only them.\n",
    "\n",
    "The simplest way to do this is to delete the `ocean_proximity` column."
   ]
  },
  {
   "cell_type": "code",
   "execution_count": 9,
   "id": "09f43883-afe8-4184-8f90-3e7e7ca86380",
   "metadata": {},
   "outputs": [],
   "source": [
    "df = df_housing.copy()\n",
    "df = df.drop(\"ocean_proximity\", axis=1)"
   ]
  },
  {
   "cell_type": "markdown",
   "id": "047e4b3d-933b-4156-9200-749a65a59b67",
   "metadata": {},
   "source": [
    "---\n",
    "\n",
    "## Question 1\n",
    "\n",
    "Find a feature with missing values. How many missing values does it have?\n",
    "\n",
    "* **207**\n",
    "* 307\n",
    "* 408\n",
    "* 508"
   ]
  },
  {
   "cell_type": "code",
   "execution_count": 10,
   "id": "50152d44-b4dd-4060-bdf7-298e6b21f240",
   "metadata": {},
   "outputs": [
    {
     "data": {
      "text/plain": [
       "longitude               0\n",
       "latitude                0\n",
       "housing_median_age      0\n",
       "total_rooms             0\n",
       "total_bedrooms        207\n",
       "population              0\n",
       "households              0\n",
       "median_income           0\n",
       "median_house_value      0\n",
       "dtype: int64"
      ]
     },
     "execution_count": 10,
     "metadata": {},
     "output_type": "execute_result"
    }
   ],
   "source": [
    "# Find a feature with missing values.\n",
    "# How many missing values does it have?\n",
    "df.isnull().sum()"
   ]
  },
  {
   "cell_type": "markdown",
   "id": "392b04b8-e2e0-4d9a-89a8-ff9197a76132",
   "metadata": {},
   "source": [
    "---\n",
    "\n",
    "## Question 2\n",
    "\n",
    "What's the median (50% percentile) for variable 'population'?\n",
    "\n",
    "* 1133\n",
    "* 1122\n",
    "* **1166**\n",
    "* 1188"
   ]
  },
  {
   "cell_type": "code",
   "execution_count": 11,
   "id": "a17cf700-3fd1-4443-b0ca-0caac89b4f1f",
   "metadata": {},
   "outputs": [
    {
     "data": {
      "text/plain": [
       "count    20640.000000\n",
       "mean      1425.476744\n",
       "std       1132.462122\n",
       "min          3.000000\n",
       "25%        787.000000\n",
       "50%       1166.000000\n",
       "75%       1725.000000\n",
       "max      35682.000000\n",
       "Name: population, dtype: float64"
      ]
     },
     "execution_count": 11,
     "metadata": {},
     "output_type": "execute_result"
    }
   ],
   "source": [
    "# What's the median (50% percentile) for variable 'population'?\n",
    "# We can get this using describe and taking the 50% percentile\n",
    "df.population.describe()"
   ]
  },
  {
   "cell_type": "markdown",
   "id": "049d0346-f598-45f5-b8a9-c68ac4ca469c",
   "metadata": {},
   "source": [
    "---\n",
    "\n",
    "## Split the data\n",
    "\n",
    "* Shuffle the initial dataset, use seed 42.\n",
    "* Split your data in train/val/test sets, with 60%/20%/20% distribution.\n",
    "* Make sure that the target value ('median_house_value') is not in your dataframe.\n",
    "* Apply the log transformation to the median_house_value variable using the np.log1p() function."
   ]
  },
  {
   "cell_type": "code",
   "execution_count": 12,
   "id": "029f6369-757c-476c-9383-b7212eb465e4",
   "metadata": {},
   "outputs": [],
   "source": [
    "# Shuffle the initial dataset, use seed 42.\n",
    "np.random.seed(42)\n",
    "\n",
    "n = len(df)\n",
    "\n",
    "n_val = int(0.2 * n)\n",
    "n_test = int(0.2 * n)\n",
    "n_train = n - (n_val + n_test)\n",
    "\n",
    "idx = np.arange(n)\n",
    "np.random.shuffle(idx)\n",
    "\n",
    "df_shuffled = df.iloc[idx]"
   ]
  },
  {
   "cell_type": "code",
   "execution_count": 13,
   "id": "93ce8fe8-d31c-46ca-9fc4-b5577f82696a",
   "metadata": {},
   "outputs": [],
   "source": [
    "# Split your data in train/val/test sets, with 60%/20%/20% distribution\n",
    "df_train = df_shuffled.iloc[:n_train].copy()\n",
    "df_val = df_shuffled.iloc[n_train : n_train + n_val].copy()\n",
    "df_test = df_shuffled.iloc[n_train + n_val :].copy()"
   ]
  },
  {
   "cell_type": "code",
   "execution_count": 14,
   "id": "7dbd0ff5-26b8-4bb4-a480-dc01f107f30e",
   "metadata": {},
   "outputs": [],
   "source": [
    "# Make sure that the target value ('median_house_value') is not in your dataframe\n",
    "y_train_orig = df_train.median_house_value.values\n",
    "y_val_orig = df_val.median_house_value.values\n",
    "y_test_orig = df_test.median_house_value.values\n",
    "\n",
    "del df_train[\"median_house_value\"]\n",
    "del df_val[\"median_house_value\"]\n",
    "del df_test[\"median_house_value\"]"
   ]
  },
  {
   "cell_type": "code",
   "execution_count": 15,
   "id": "ad461f7c-efe1-4caf-9101-1e05313535e1",
   "metadata": {},
   "outputs": [],
   "source": [
    "# Apply the log transformation to the median_house_value variable using the np.log1p() function\n",
    "y_train = np.log1p(y_train_orig)\n",
    "y_val = np.log1p(y_val_orig)\n",
    "y_test = np.log1p(y_test_orig)"
   ]
  },
  {
   "cell_type": "markdown",
   "id": "f7c87832-4be7-47a6-b007-b202800b6dc7",
   "metadata": {
    "tags": []
   },
   "source": [
    "---\n",
    "\n",
    "## Question 3\n",
    "\n",
    "* We need to deal with missing values for the column from Q1.\n",
    "* We have two options: fill it with 0 or with the mean of this variable.\n",
    "* Try both options. For each, train a linear regression model without regularization using the code from the lessons.\n",
    "* For computing the mean, use the training only!\n",
    "* Use the validation dataset to evaluate the models and compare the RMSE of each option.\n",
    "* Round the RMSE scores to 2 decimal digits using round(score, 2)\n",
    "* Which option gives better RMSE?\n",
    "\n",
    "Options:\n",
    "\n",
    "* With 0\n",
    "* With mean\n",
    "* With median\n",
    "* **Both are equally good**"
   ]
  },
  {
   "cell_type": "code",
   "execution_count": 16,
   "id": "c2be6f76-0331-413c-bc26-72f5cf9c13ee",
   "metadata": {},
   "outputs": [
    {
     "data": {
      "text/plain": [
       "longitude               0\n",
       "latitude                0\n",
       "housing_median_age      0\n",
       "total_rooms             0\n",
       "total_bedrooms        207\n",
       "population              0\n",
       "households              0\n",
       "median_income           0\n",
       "dtype: int64"
      ]
     },
     "execution_count": 16,
     "metadata": {},
     "output_type": "execute_result"
    }
   ],
   "source": [
    "# Remind ourselves about the missing data\n",
    "df_train.isnull().sum()"
   ]
  },
  {
   "cell_type": "code",
   "execution_count": 17,
   "id": "6f065595-c53b-4bfc-a773-1af8f90a13e8",
   "metadata": {},
   "outputs": [
    {
     "data": {
      "text/plain": [
       "533.4803317730147"
      ]
     },
     "execution_count": 17,
     "metadata": {},
     "output_type": "execute_result"
    }
   ],
   "source": [
    "# Calculate mean of total_bedrooms\n",
    "total_bedrooms_mean = df_train.total_bedrooms.mean()\n",
    "total_bedrooms_mean"
   ]
  },
  {
   "cell_type": "code",
   "execution_count": 18,
   "id": "d85135fc-99ff-49ab-b208-5cd7592a2da8",
   "metadata": {},
   "outputs": [
    {
     "data": {
      "image/png": "[encoded data removed]",
      "text/plain": [
       "<Figure size 432x288 with 1 Axes>"
      ]
     },
     "metadata": {
      "needs_background": "light"
     },
     "output_type": "display_data"
    }
   ],
   "source": [
    "# Look at the distribution of `total_bedrooms_mean`\n",
    "sns.histplot(df_train.total_bedrooms, bins=50, alpha=0.8)\n",
    "plt.ylabel(\"Frequency\")\n",
    "plt.xlabel(\"Total Bedrooms Mean\")\n",
    "plt.title(\"Distribution of Total Beadrooms Mean\")\n",
    "plt.show()"
   ]
  },
  {
   "cell_type": "code",
   "execution_count": 19,
   "id": "1d308188-2495-4977-8a62-c6cf47dd7ab1",
   "metadata": {},
   "outputs": [
    {
     "name": "stdout",
     "output_type": "stream",
     "text": [
      "Filling missing values with: 0\n",
      "Training RMSE: 0.34\n",
      "Validation RMSE: 0.33\n",
      "Training:   0.34131359101566755\n",
      "Validation: 0.3295330365229767\n",
      "\n",
      "Filling missing values with: 533.4803317730147\n",
      "Training RMSE: 0.34\n",
      "Validation RMSE: 0.33\n",
      "Training:   0.34104161810328065\n",
      "Validation: 0.32901954390020777\n",
      "\n"
     ]
    }
   ],
   "source": [
    "# We have two options: fill it with 0 or with the mean of total_bedrooms.\n",
    "# Try both options.\n",
    "# For each, train a linear regression model without regularization using the code from the lessons.\n",
    "\n",
    "for num_beds in [0, total_bedrooms_mean]:\n",
    "    print(f\"Filling missing values with: {num_beds}\")\n",
    "    X_train = df_train.fillna(num_beds).copy()\n",
    "\n",
    "    # Calculate bias and weights\n",
    "    w_0, w = simple_train_linear_regression(X_train, y_train)\n",
    "\n",
    "    # Predict values of training data\n",
    "    y_train_pred = w_0 + X_train.dot(w)\n",
    "    training_rmse = rmse(y_train, y_train_pred)\n",
    "    print(f\"Training RMSE: {round(training_rmse, 2)}\")\n",
    "\n",
    "    # Predict values of validation data\n",
    "    X_val = df_val.copy()\n",
    "    y_val_pred = w_0 + X_val.dot(w)\n",
    "    validation_rmse = rmse(y_val, y_val_pred)\n",
    "    print(f\"Validation RMSE: {round(validation_rmse, 2)}\")\n",
    "\n",
    "    print(f\"Training:   {training_rmse}\")\n",
    "    print(f\"Validation: {validation_rmse}\")\n",
    "    print()"
   ]
  },
  {
   "cell_type": "markdown",
   "id": "303430df-6c62-4042-9aac-3d0d10b9d799",
   "metadata": {},
   "source": [
    "### Plot Predicted vs Expected"
   ]
  },
  {
   "cell_type": "code",
   "execution_count": 20,
   "id": "b9af611e-312f-49b8-ac99-e4bc632f43f0",
   "metadata": {},
   "outputs": [
    {
     "data": {
      "image/png": "[encoded data removed]",
      "text/plain": [
       "<Figure size 432x288 with 1 Axes>"
      ]
     },
     "metadata": {
      "needs_background": "light"
     },
     "output_type": "display_data"
    }
   ],
   "source": [
    "plt.figure(figsize=(6, 4))\n",
    "\n",
    "sns.histplot(y_val, label=\"target\", color=\"blue\", alpha=0.8, bins=40)\n",
    "sns.histplot(y_val_pred, label=\"prediction\", color=\"red\", alpha=0.5, bins=40)\n",
    "\n",
    "plt.legend()\n",
    "\n",
    "plt.ylabel(\"Frequency\")\n",
    "plt.xlabel(\"Log(Price + 1)\")\n",
    "plt.title(\"Predictions vs actual distribution\")\n",
    "\n",
    "plt.show()"
   ]
  },
  {
   "cell_type": "markdown",
   "id": "10405c7a-a68d-4a47-95f0-20d047cf6dd6",
   "metadata": {
    "tags": []
   },
   "source": [
    "---\n",
    "\n",
    "## Question 4\n",
    "\n",
    "* Now let's train a regularized linear regression.\n",
    "* For this question, fill the NAs with 0.\n",
    "* Try different values of r from this list: [0, 0.000001, 0.0001, 0.001, 0.01, 0.1, 1, 5, 10].\n",
    "* Use RMSE to evaluate the model on the validation dataset.\n",
    "* Round the RMSE scores to 2 decimal digits.\n",
    "* Which r gives the best RMSE?\n",
    "\n",
    "If there are multiple options, select the smallest r.\n",
    "\n",
    "Options:\n",
    "\n",
    "* **0**\n",
    "* 0.000001\n",
    "* 0.001\n",
    "* 0.0001"
   ]
  },
  {
   "cell_type": "code",
   "execution_count": 32,
   "id": "22cda43a-6aa2-4cfa-bc56-2eac1217e37f",
   "metadata": {},
   "outputs": [
    {
     "name": "stdout",
     "output_type": "stream",
     "text": [
      "     0: RMSE:0.33\n",
      " 1e-06: RMSE:0.33\n",
      "0.0001: RMSE:0.33\n",
      " 0.001: RMSE:0.33\n",
      "  0.01: RMSE:0.33\n",
      "   0.1: RMSE:0.33\n",
      "     1: RMSE:0.33\n",
      "     5: RMSE:0.34\n",
      "    10: RMSE:0.34\n"
     ]
    }
   ],
   "source": [
    "# For this question, fill the NAs with 0.\n",
    "X_train = df_train.fillna(0).copy()\n",
    "\n",
    "# Try different values of r from this list: [0, 0.000001, 0.0001, 0.001, 0.01, 0.1, 1, 5, 10]\n",
    "for r in [0, 0.000001, 0.0001, 0.001, 0.01, 0.1, 1, 5, 10]:\n",
    "    w_0, w = reg_train_linear_regression(X_train, y_train, r=r)\n",
    "\n",
    "    # Use RMSE to evaluate the model on the validation dataset\n",
    "    # Round the RMSE scores to 2 decimal digits\n",
    "    X_val = df_val.copy()\n",
    "    y_val_pred = w_0 + X_val.dot(w)\n",
    "    print(f\"{r:6}: RMSE:{round(rmse(y_val, y_val_pred), 2)}\")"
   ]
  },
  {
   "cell_type": "markdown",
   "id": "6f63d838-98c6-4434-9b91-76a88b926a94",
   "metadata": {},
   "source": [
    "---\n",
    "\n",
    "## Question 5\n",
    "\n",
    "* We used seed 42 for splitting the data. Let's find out how selecting the seed influences our score.\n",
    "* Try different seed values: [0, 1, 2, 3, 4, 5, 6, 7, 8, 9].\n",
    "* For each seed, do the train/validation/test split with 60%/20%/20% distribution.\n",
    "* Fill the missing values with 0 and train a model without regularization.\n",
    "* For each seed, evaluate the model on the validation dataset and collect the RMSE scores.\n",
    "* What's the standard deviation of all the scores? To compute the standard deviation, use np.std.\n",
    "* Round the result to 3 decimal digits (round(std, 3))\n",
    "\n",
    "> Note: Standard deviation shows how different the values are. If it's low, then all values are approximately the same. If it's high, the values are different. If standard deviation of scores is low, then our model is stable.\n",
    "\n",
    "Options:\n",
    "\n",
    "* 0.16\n",
    "* 0.00005\n",
    "* **0.005**\n",
    "* 0.15555\n"
   ]
  },
  {
   "cell_type": "code",
   "execution_count": 43,
   "id": "3fc3fdb4-537f-49da-a4f2-401c614fd1b3",
   "metadata": {},
   "outputs": [],
   "source": [
    "# Function to prepare the data and split into three data sets\n",
    "# Returns:\n",
    "#   - X_train\n",
    "#   - y_train\n",
    "#   - X_val\n",
    "#   - y_val\n",
    "#   - X_test\n",
    "#   - y_test\n",
    "\n",
    "\n",
    "def prepare_data(df, seed):\n",
    "\n",
    "    # Shuffle the initial dataset, use seed value passed to function\n",
    "    np.random.seed(seed)\n",
    "\n",
    "    # The length of the data frame\n",
    "    n = len(df)\n",
    "\n",
    "    # The slice points on which to split the data frame\n",
    "    n_val = int(0.2 * n)\n",
    "    n_test = int(0.2 * n)\n",
    "    n_train = n - (n_val + n_test)\n",
    "\n",
    "    # Shuffle the rows in the original dataframe\n",
    "    idx = np.arange(n)\n",
    "    np.random.shuffle(idx)\n",
    "    df_shuffled = df.iloc[idx]\n",
    "\n",
    "    # Fillna values with zero\n",
    "    df_shuffled = df_shuffled.fillna(0)\n",
    "\n",
    "    # Split the data in train /val /test sets\n",
    "    X_train = df_shuffled.iloc[:n_train].copy()\n",
    "    X_val = df_shuffled.iloc[n_train : n_train + n_val].copy()\n",
    "    X_test = df_shuffled.iloc[n_train + n_val :].copy()\n",
    "\n",
    "    # Get the target values and get the log values\n",
    "    y_train = np.log1p(X_train.median_house_value.values)\n",
    "    y_val = np.log1p(X_val.median_house_value.values)\n",
    "    y_test = np.log1p(X_test.median_house_value.values)\n",
    "\n",
    "    # Delete target values from train / val / test dataframes\n",
    "    del X_train[\"median_house_value\"]\n",
    "    del X_val[\"median_house_value\"]\n",
    "    del X_test[\"median_house_value\"]\n",
    "\n",
    "    # Return data\n",
    "    return X_train, y_train, X_val, y_val, X_test, y_test"
   ]
  },
  {
   "cell_type": "code",
   "execution_count": 44,
   "id": "5c9738d8-3c27-4c0a-8665-f833681e5807",
   "metadata": {},
   "outputs": [],
   "source": [
    "# Function to run regression and return RSME\n",
    "def run_regression(X_train, y_train, X_val, y_val):\n",
    "\n",
    "    w_0, w = simple_train_linear_regression(X_train, y_train)\n",
    "\n",
    "    # Use RMSE to evaluate the model on the validation dataset\n",
    "    # Round the RMSE scores to 2 decimal digits\n",
    "    y_pred = w_0 + X_val.dot(w)\n",
    "\n",
    "    # Return the RMSE\n",
    "    return rmse(y_val, y_val_pred)"
   ]
  },
  {
   "cell_type": "code",
   "execution_count": 51,
   "id": "79e636ae-2571-41b6-bb57-0c2e29b73e3a",
   "metadata": {},
   "outputs": [
    {
     "name": "stdout",
     "output_type": "stream",
     "text": [
      "0.006\n"
     ]
    }
   ],
   "source": [
    "# Run regression using different seeds for the data:\n",
    "\n",
    "# Get a clean dataframe to be sure\n",
    "df = df_housing.copy()\n",
    "df = df.drop(\"ocean_proximity\", axis=1)\n",
    "\n",
    "results = []\n",
    "\n",
    "for seed in [0, 1, 2, 3, 4, 5, 6, 7, 8, 9]:\n",
    "    X_train, y_train, X_val, y_val, X_test, y_test = prepare_data(df, seed)\n",
    "    results.append(run_regression(X_train, y_train, X_val, y_val))\n",
    "\n",
    "print(round(np.std(results), 3))"
   ]
  },
  {
   "cell_type": "markdown",
   "id": "76150c10-ccce-4e9a-8924-e02d58d45a84",
   "metadata": {},
   "source": [
    "---\n",
    "\n",
    "## Question 6\n",
    "\n",
    "* Split the dataset like previously, use seed 9.\n",
    "* Combine train and validation datasets.\n",
    "* Fill the missing values with 0 and train a model with r=0.001.\n",
    "* What's the RMSE on the test dataset?\n",
    "\n",
    "Options:\n",
    "\n",
    "* **0.35**\n",
    "* 0.135\n",
    "* 0.450\n",
    "* 0.245"
   ]
  },
  {
   "cell_type": "code",
   "execution_count": 59,
   "id": "23d03069-60eb-4ea2-9acb-1fec5142176c",
   "metadata": {},
   "outputs": [
    {
     "name": "stdout",
     "output_type": "stream",
     "text": [
      "RMSE:0.35\n"
     ]
    }
   ],
   "source": [
    "# Run regression using a seed of 9:\n",
    "\n",
    "# Get a clean dataframe to be sure\n",
    "df = df_housing.copy()\n",
    "df = df.drop(\"ocean_proximity\", axis=1)\n",
    "\n",
    "# Split the data\n",
    "X_train, y_train, X_val, y_val, X_test, y_test = prepare_data(df, 9)\n",
    "\n",
    "# Concat the Train and Validation Datasets\n",
    "X_full = pd.concat([X_train, X_val]).reset_index(drop=True)\n",
    "y_full = np.concatenate([y_train, y_val])\n",
    "\n",
    "# Train the model\n",
    "w_0, w = reg_train_linear_regression(X_full, y_full, r=0.001)\n",
    "\n",
    "# Use RMSE to evaluate the model on the test dataset\n",
    "# Round the RMSE scores to 2 decimal digits\n",
    "y_pred = w_0 + X_test.dot(w)\n",
    "print(f\"RMSE:{round(rmse(y_test, y_pred), 2)}\")"
   ]
  },
  {
   "cell_type": "code",
   "execution_count": null,
   "id": "634401c7-e593-4926-bc88-7be8f672331b",
   "metadata": {},
   "outputs": [],
   "source": []
  },
  {
   "cell_type": "code",
   "execution_count": null,
   "id": "6442d4b2-c981-42d9-8cae-6b9f780c79df",
   "metadata": {},
   "outputs": [],
   "source": []
  },
  {
   "cell_type": "markdown",
   "id": "f0857c21-82fe-4e42-9682-f304e503284e",
   "metadata": {
    "tags": []
   },
   "source": [
    "---\n",
    "\n",
    "# Learning in Public\n",
    "\n",
    "* https://twitter.com/David__Colton/status/1568001566447214598?s=20&t=_4sm6TuFdV_36eOMBK-JbQ\n",
    "* https://twitter.com/David__Colton/status/1568004499058429956?s=20&t=_4sm6TuFdV_36eOMBK-JbQ\n",
    "* https://twitter.com/David__Colton/status/1568324277660749827?s=20&t=_4sm6TuFdV_36eOMBK-JbQ\n",
    "* https://twitter.com/David__Colton/status/1568330907647451137?s=20&t=wQSMBOvJoajJIMJSAFa5aw\n",
    "* https://twitter.com/David__Colton/status/1568375377676103680?s=20&t=3QgmIOgtc5fgSXZorfb_JQ\n",
    "* https://twitter.com/David__Colton/status/1568531366500868097?s=20&t=5VaR7HFlXpylItsdZZPLAA\n",
    "* https://twitter.com/David__Colton/status/1569248468493008896?s=20&t=aJ7xfPxFu4kLB8UDB2AYkw\n",
    "* https://twitter.com/David__Colton/status/1569407694049579015?s=20&t=13UXGegjPM1G90-CtyAXXQ\n",
    "* https://twitter.com/David__Colton/status/1569424652363079682?s=20&t=IV2qUMfVtfbqbV86ZOjZog\n",
    "* https://twitter.com/David__Colton/status/1569454639212367872?s=20&t=dd5431V5jxmtiso8NVtnNA\n",
    "* https://twitter.com/David__Colton/status/1569799846776930304?s=20&t=BrJGQBz0f-SeSAjfxkCucQ\n",
    "* https://twitter.com/David__Colton/status/1569805732043800578?s=20&t=_W3J_xAAh29ss02s1gIxIA\n",
    "* https://twitter.com/David__Colton/status/1570116960570023936?s=20&t=BzSnj_1Cf13hPryPrXZewQ\n",
    "* https://twitter.com/David__Colton/status/1570118696319737856?s=20&t=2DOUfGaiFMedfPVL5TQMHg\n",
    "* https://twitter.com/David__Colton/status/1570495078619295746?s=20&t=Dak6OP2ca7n690EN_G562Q\n",
    "* https://twitter.com/David__Colton/status/1570532176080539648?s=20&t=EFDqXgccXXeDiVPQ59sZdw"
   ]
  },
  {
   "cell_type": "code",
   "execution_count": null,
   "id": "ac5e1597-c235-466d-8044-826ddc29d3a6",
   "metadata": {},
   "outputs": [],
   "source": []
  }
 ],
 "metadata": {
  "kernelspec": {
   "display_name": "Python 3 (ipykernel)",
   "language": "python",
   "name": "python3"
  },
  "language_info": {
   "codemirror_mode": {
    "name": "ipython",
    "version": 3
   },
   "file_extension": ".py",
   "mimetype": "text/x-python",
   "name": "python",
   "nbconvert_exporter": "python",
   "pygments_lexer": "ipython3",
   "version": "3.10.4"
  }
 },
 "nbformat": 4,
 "nbformat_minor": 5
}
