{
 "cells": [
  {
   "cell_type": "markdown",
   "id": "c901e0fc",
   "metadata": {},
   "source": [
    "# Homework\n",
    "\n",
    "### Dataset\n",
    "\n",
    "In this homework, we'll build a model for predicting if we have an image of a dino or a dragon. For this, we will use the \"Dino or Dragon?\" dataset that can be downloaded from [Kaggle](https://www.kaggle.com/datasets/agrigorev/dino-or-dragon). \n",
    "\n",
    "You can get a wget-able version [here](https://github.com/alexeygrigorev/dino-or-dragon/releases/download/data/dino-dragon.zip):\n",
    "\n",
    "```bash\n",
    "wget https://github.com/alexeygrigorev/dino-or-dragon/releases/download/data/dino-dragon.zip\n",
    "unzip dino-dragon.zip\n",
    "```\n",
    "\n",
    "In the lectures we saw how to use a pre-trained neural network. In the homework, we'll train a much smaller model from scratch. \n",
    "\n",
    "**Note:** You will need an environment with a GPU for this homework. We recommend to use [Saturn Cloud](https://bit.ly/saturn-mlzoomcamp). \n",
    "You can also use a computer without a GPU (e.g. your laptop), but it will be slower.\n",
    "\n",
    "\n",
    "### Data Preparation\n",
    "\n",
    "The dataset contains around 1900 images of dinos and around 1900 images of dragons. \n",
    "\n",
    "The dataset contains separate folders for training and test sets. \n",
    "\n",
    "\n",
    "### Model\n",
    "\n",
    "For this homework we will use Convolutional Neural Network (CNN). Like in the lectures, we'll use Keras.\n",
    "\n",
    "You need to develop the model with following structure:\n",
    "\n",
    "* The shape for input should be `(150, 150, 3)`\n",
    "* Next, create a convolutional layer ([`Conv2D`](https://keras.io/api/layers/convolution_layers/convolution2d/)):\n",
    "    * Use 32 filters\n",
    "    * Kernel size should be `(3, 3)` (that's the size of the filter)\n",
    "    * Use `'relu'` as activation \n",
    "* Reduce the size of the feature map with max pooling ([`MaxPooling2D`](https://keras.io/api/layers/pooling_layers/max_pooling2d/))\n",
    "    * Set the pooling size to `(2, 2)`\n",
    "* Turn the multi-dimensional result into vectors using a [`Flatten`](https://keras.io/api/layers/reshaping_layers/flatten/) layer\n",
    "* Next, add a `Dense` layer with 64 neurons and `'relu'` activation\n",
    "* Finally, create the `Dense` layer with 1 neuron - this will be the output\n",
    "    * The output layer should have an activation - use the appropriate activation for the binary classification case\n",
    "\n",
    "As optimizer use [`SGD`](https://keras.io/api/optimizers/sgd/) with the following parameters:\n",
    "\n",
    "* `SGD(lr=0.002, momentum=0.8)`\n",
    "\n",
    "For clarification about kernel size and max pooling, check [Office Hours](https://www.youtube.com/watch?v=1WRgdBTUaAc).\n",
    "\n",
    "---"
   ]
  },
  {
   "cell_type": "code",
   "execution_count": 2,
   "id": "4f881a17",
   "metadata": {},
   "outputs": [],
   "source": [
    "import numpy as np\n",
    "import matplotlib.pyplot as plt\n",
    "import tensorflow as tf\n",
    "from tensorflow import keras\n",
    "\n",
    "from tensorflow.keras import layers\n",
    "from tensorflow.keras import models\n",
    "from tensorflow.keras import optimizers\n",
    "from tensorflow.keras.preprocessing.image import ImageDataGenerator\n",
    "\n",
    "train_fp = './train/'\n",
    "test_fp = './test/'\n",
    "\n",
    "plt.style.use('ggplot')"
   ]
  },
  {
   "cell_type": "markdown",
   "id": "744830a1",
   "metadata": {},
   "source": [
    "---\n",
    "\n",
    "### Model"
   ]
  },
  {
   "cell_type": "code",
   "execution_count": 3,
   "id": "4f042bf5",
   "metadata": {},
   "outputs": [
    {
     "name": "stdout",
     "output_type": "stream",
     "text": [
      "Metal device set to: Apple M1 Max\n",
      "\n",
      "systemMemory: 32.00 GB\n",
      "maxCacheSize: 10.67 GB\n",
      "\n"
     ]
    },
    {
     "name": "stderr",
     "output_type": "stream",
     "text": [
      "2022-11-21 16:55:52.085667: I tensorflow/core/common_runtime/pluggable_device/pluggable_device_factory.cc:306] Could not identify NUMA node of platform GPU ID 0, defaulting to 0. Your kernel may not have been built with NUMA support.\n",
      "2022-11-21 16:55:52.086071: I tensorflow/core/common_runtime/pluggable_device/pluggable_device_factory.cc:272] Created TensorFlow device (/job:localhost/replica:0/task:0/device:GPU:0 with 0 MB memory) -> physical PluggableDevice (device: 0, name: METAL, pci bus id: <undefined>)\n"
     ]
    }
   ],
   "source": [
    "model = models.Sequential()\n",
    "\n",
    "model.add(\n",
    "    layers.Conv2D(32, \n",
    "                  (3, 3), \n",
    "                  activation='relu',\n",
    "                  input_shape=(150, 150, 3)\n",
    "                  )\n",
    "    )\n",
    "model.add(layers.MaxPooling2D((2, 2)))\n",
    "model.add(layers.Flatten())\n",
    "model.add(layers.Dense(64, activation='relu'))\n",
    "model.add(layers.Dense(1, activation='sigmoid'))"
   ]
  },
  {
   "cell_type": "code",
   "execution_count": 4,
   "id": "5d5030d5",
   "metadata": {},
   "outputs": [],
   "source": [
    "model.compile(\n",
    "    loss='binary_crossentropy',\n",
    "    optimizer=optimizers.SGD(\n",
    "        learning_rate=0.002, \n",
    "        momentum=0.8\n",
    "    ),\n",
    "    metrics=['acc']\n",
    ")"
   ]
  },
  {
   "cell_type": "markdown",
   "id": "243f5fdd",
   "metadata": {},
   "source": [
    "---\n",
    "\n",
    "### Question 1\n",
    "\n",
    "Since we have a binary classification problem, what is the best loss function for us?\n",
    "\n",
    "- `binary crossentropy`\n",
    "- `focal loss`\n",
    "- `mean squared error`\n",
    "- `categorical crossentropy`\n",
    "\n",
    "Note: since we specify an activation for the output layer, we don't need to set `from_logits=True`\n",
    "\n",
    "### Answer 1\n",
    "\n",
    "`binary crossentropy`"
   ]
  },
  {
   "cell_type": "markdown",
   "id": "cc6ad79c",
   "metadata": {},
   "source": [
    "---\n",
    "\n",
    "What's the total number of parameters of the model? You can use the `summary` method for that. \n",
    "\n",
    "- 9215873\n",
    "- **11215873**\n",
    "- 14215873\n",
    "- 19215873"
   ]
  },
  {
   "cell_type": "code",
   "execution_count": 5,
   "id": "1bc92c42",
   "metadata": {},
   "outputs": [
    {
     "name": "stdout",
     "output_type": "stream",
     "text": [
      "Model: \"sequential\"\n",
      "_________________________________________________________________\n",
      " Layer (type)                Output Shape              Param #   \n",
      "=================================================================\n",
      " conv2d (Conv2D)             (None, 148, 148, 32)      896       \n",
      "                                                                 \n",
      " max_pooling2d (MaxPooling2D  (None, 74, 74, 32)       0         \n",
      " )                                                               \n",
      "                                                                 \n",
      " flatten (Flatten)           (None, 175232)            0         \n",
      "                                                                 \n",
      " dense (Dense)               (None, 64)                11214912  \n",
      "                                                                 \n",
      " dense_1 (Dense)             (None, 1)                 65        \n",
      "                                                                 \n",
      "=================================================================\n",
      "Total params: 11,215,873\n",
      "Trainable params: 11,215,873\n",
      "Non-trainable params: 0\n",
      "_________________________________________________________________\n"
     ]
    }
   ],
   "source": [
    "model.summary()"
   ]
  },
  {
   "cell_type": "markdown",
   "id": "a7781f3b",
   "metadata": {},
   "source": [
    "---\n",
    "\n",
    "### Generators and Training\n",
    "\n",
    "For the next two questions, use the following data generator for both train and test sets:\n",
    "\n",
    "```python\n",
    "ImageDataGenerator(rescale=1./255)\n",
    "```\n",
    "\n",
    "* We don't need to do any additional pre-processing for the images.\n",
    "* When reading the data from train/val directories, check the `class_mode` parameter. Which value should it be for a binary classification problem?\n",
    "* Use `batch_size=20`\n",
    "* Use `shuffle=True` for both training and test sets. \n",
    "\n",
    "For training use `.fit()` with the following params:\n",
    "\n",
    "```python\n",
    "model.fit(\n",
    "    train_generator,\n",
    "    epochs=10,\n",
    "    validation_data=test_generator\n",
    ")\n",
    "```"
   ]
  },
  {
   "cell_type": "markdown",
   "id": "0222b0c3",
   "metadata": {},
   "source": [
    "---\n",
    "\n",
    "### Question 3\n",
    "\n",
    "What is the median of training accuracy for all the epochs for this model?\n",
    "\n",
    "- 0.40\n",
    "- 0.60\n",
    "- **0.90**\n",
    "- 0.20"
   ]
  },
  {
   "cell_type": "code",
   "execution_count": 7,
   "id": "b5450979",
   "metadata": {},
   "outputs": [
    {
     "name": "stdout",
     "output_type": "stream",
     "text": [
      "Found 1594 images belonging to 2 classes.\n"
     ]
    }
   ],
   "source": [
    "train_data_generator = ImageDataGenerator(rescale=1./255)\n",
    "val_data_generator = ImageDataGenerator(rescale=1./255)\n",
    "\n",
    "train_generator = train_data_generator.flow_from_directory(\n",
    "    train_fp,\n",
    "    target_size=(150, 150),\n",
    "    batch_size=20,\n",
    "    class_mode='binary'\n",
    ")"
   ]
  },
  {
   "cell_type": "code",
   "execution_count": 8,
   "id": "aaecb004",
   "metadata": {},
   "outputs": [
    {
     "name": "stdout",
     "output_type": "stream",
     "text": [
      "Found 394 images belonging to 2 classes.\n"
     ]
    }
   ],
   "source": [
    "validation_generator = val_data_generator.flow_from_directory(\n",
    "    test_fp,\n",
    "    target_size=(150, 150),\n",
    "    batch_size=20,\n",
    "    class_mode='binary'\n",
    ")"
   ]
  },
  {
   "cell_type": "code",
   "execution_count": 9,
   "id": "90d84515",
   "metadata": {},
   "outputs": [
    {
     "name": "stdout",
     "output_type": "stream",
     "text": [
      "Epoch 1/10\n"
     ]
    },
    {
     "name": "stderr",
     "output_type": "stream",
     "text": [
      "2022-11-21 17:02:02.713862: W tensorflow/core/platform/profile_utils/cpu_utils.cc:128] Failed to get CPU frequency: 0 Hz\n",
      "2022-11-21 17:02:02.955897: I tensorflow/core/grappler/optimizers/custom_graph_optimizer_registry.cc:114] Plugin optimizer for device_type GPU is enabled.\n"
     ]
    },
    {
     "name": "stdout",
     "output_type": "stream",
     "text": [
      "80/80 [==============================] - ETA: 0s - loss: 0.6990 - acc: 0.5094"
     ]
    },
    {
     "name": "stderr",
     "output_type": "stream",
     "text": [
      "2022-11-21 17:02:10.057145: I tensorflow/core/grappler/optimizers/custom_graph_optimizer_registry.cc:114] Plugin optimizer for device_type GPU is enabled.\n"
     ]
    },
    {
     "name": "stdout",
     "output_type": "stream",
     "text": [
      "80/80 [==============================] - 8s 83ms/step - loss: 0.6990 - acc: 0.5094 - val_loss: 0.6829 - val_acc: 0.6548\n",
      "Epoch 2/10\n",
      "80/80 [==============================] - 6s 77ms/step - loss: 0.6651 - acc: 0.6575 - val_loss: 0.6402 - val_acc: 0.6294\n",
      "Epoch 3/10\n",
      "80/80 [==============================] - 6s 77ms/step - loss: 0.6050 - acc: 0.7026 - val_loss: 0.5397 - val_acc: 0.8122\n",
      "Epoch 4/10\n",
      "80/80 [==============================] - 6s 77ms/step - loss: 0.4960 - acc: 0.7898 - val_loss: 0.4668 - val_acc: 0.8096\n",
      "Epoch 5/10\n",
      "80/80 [==============================] - 6s 78ms/step - loss: 0.4242 - acc: 0.8093 - val_loss: 0.3987 - val_acc: 0.8401\n",
      "Epoch 6/10\n",
      "80/80 [==============================] - 6s 77ms/step - loss: 0.3772 - acc: 0.8494 - val_loss: 0.3674 - val_acc: 0.8274\n",
      "Epoch 7/10\n",
      "80/80 [==============================] - 6s 78ms/step - loss: 0.3272 - acc: 0.8726 - val_loss: 0.3440 - val_acc: 0.8426\n",
      "Epoch 8/10\n",
      "80/80 [==============================] - 6s 77ms/step - loss: 0.3041 - acc: 0.8821 - val_loss: 0.3228 - val_acc: 0.8655\n",
      "Epoch 9/10\n",
      "80/80 [==============================] - 6s 77ms/step - loss: 0.2682 - acc: 0.8940 - val_loss: 0.3128 - val_acc: 0.8629\n",
      "Epoch 10/10\n",
      "80/80 [==============================] - 6s 77ms/step - loss: 0.2546 - acc: 0.9103 - val_loss: 0.3048 - val_acc: 0.8756\n"
     ]
    }
   ],
   "source": [
    "history = model.fit(\n",
    "    train_generator,\n",
    "    epochs=10,\n",
    "    validation_data=validation_generator\n",
    ")"
   ]
  },
  {
   "cell_type": "code",
   "execution_count": 10,
   "id": "47be9d65",
   "metadata": {},
   "outputs": [
    {
     "data": {
      "text/plain": [
       "0.8293600976467133"
      ]
     },
     "execution_count": 10,
     "metadata": {},
     "output_type": "execute_result"
    }
   ],
   "source": [
    "np.median(history.history['acc'])"
   ]
  },
  {
   "cell_type": "code",
   "execution_count": 11,
   "id": "f9ede203",
   "metadata": {},
   "outputs": [
    {
     "data": {
      "image/png": "[encoded data removed]",
      "text/plain": [
       "<Figure size 1200x500 with 1 Axes>"
      ]
     },
     "metadata": {},
     "output_type": "display_data"
    }
   ],
   "source": [
    "plt.figure(figsize=(12, 5))\n",
    "plt.plot(\n",
    "    range(1,len(history.history['acc'])+1), \n",
    "    history.history['acc'], \n",
    "    label='Training acc'\n",
    ")\n",
    "plt.plot(\n",
    "    range(1,len(history.history['acc'])+1), \n",
    "    history.history['val_acc'], \n",
    "    label='Validation acc'\n",
    ")\n",
    "plt.axhline(\n",
    "    y=np.median(history.history['acc']), \n",
    "    color='k', \n",
    "    linestyle='--'\n",
    "    )\n",
    "\n",
    "plt.title('Training and Validation Accuracy')\n",
    "plt.legend()\n",
    "plt.show()"
   ]
  },
  {
   "cell_type": "markdown",
   "id": "b03e501d",
   "metadata": {},
   "source": [
    "---\n",
    "\n",
    "### Question 4\n",
    "\n",
    "What is the standard deviation of training loss for all the epochs for this model?\n",
    "\n",
    "- **0.11**\n",
    "- 0.66\n",
    "- 0.99\n",
    "- 0.33"
   ]
  },
  {
   "cell_type": "code",
   "execution_count": 12,
   "id": "ae54b1ad",
   "metadata": {},
   "outputs": [
    {
     "data": {
      "text/plain": [
       "0.15727985794029165"
      ]
     },
     "execution_count": 12,
     "metadata": {},
     "output_type": "execute_result"
    }
   ],
   "source": [
    "np.std(history.history['loss'])"
   ]
  },
  {
   "cell_type": "markdown",
   "id": "42cd34cf",
   "metadata": {},
   "source": [
    "---\n",
    "\n",
    "### Data Augmentation\n",
    "\n",
    "For the next two questions, we'll generate more data using data augmentations. \n",
    "\n",
    "Add the following augmentations to your training data generator:\n",
    "\n",
    "* `rotation_range=40,`\n",
    "* `width_shift_range=0.2,`\n",
    "* `height_shift_range=0.2,`\n",
    "* `shear_range=0.2,`\n",
    "* `zoom_range=0.2,`\n",
    "* `horizontal_flip=True,`\n",
    "* `fill_mode='nearest'`\n",
    "\n",
    "---\n",
    "\n",
    "### Question 5 \n",
    "\n",
    "Let's train our model for 10 more epochs using the same code as previously.\n",
    "Make sure you don't re-create the model - we want to continue training the model\n",
    "we already started training.\n",
    "\n",
    "What is the mean of test loss for all the epochs for the model trained with augmentations?\n",
    "\n",
    "- 0.15\n",
    "- 0.77\n",
    "- **0.37**\n",
    "- 0.97"
   ]
  },
  {
   "cell_type": "code",
   "execution_count": 13,
   "id": "8b6b25ff",
   "metadata": {},
   "outputs": [],
   "source": [
    "train_data_generator = ImageDataGenerator(\n",
    "    rescale=1./255,\n",
    "    rotation_range=40,\n",
    "    width_shift_range=0.2,\n",
    "    height_shift_range=0.2,\n",
    "    shear_range=0.2,\n",
    "    zoom_range=0.2,\n",
    "    horizontal_flip=True,\n",
    "    fill_mode='nearest'\n",
    ")\n",
    "\n",
    "test_data_generator = ImageDataGenerator(rescale=1./255)"
   ]
  },
  {
   "cell_type": "code",
   "execution_count": 14,
   "id": "55da19b2",
   "metadata": {},
   "outputs": [
    {
     "name": "stdout",
     "output_type": "stream",
     "text": [
      "Found 1594 images belonging to 2 classes.\n"
     ]
    }
   ],
   "source": [
    "train_generator = train_data_generator.flow_from_directory(\n",
    "    train_fp,\n",
    "    target_size=(150, 150), \n",
    "    batch_size=32, \n",
    "    class_mode='binary'\n",
    ")"
   ]
  },
  {
   "cell_type": "code",
   "execution_count": 15,
   "id": "463529ea",
   "metadata": {},
   "outputs": [
    {
     "name": "stdout",
     "output_type": "stream",
     "text": [
      "Found 394 images belonging to 2 classes.\n"
     ]
    }
   ],
   "source": [
    "validation_generator = test_data_generator.flow_from_directory(\n",
    "    test_fp,\n",
    "    target_size=(150, 150),\n",
    "    batch_size=32,\n",
    "    class_mode='binary'\n",
    ")"
   ]
  },
  {
   "cell_type": "code",
   "execution_count": 16,
   "id": "eb7bcef9",
   "metadata": {},
   "outputs": [
    {
     "name": "stdout",
     "output_type": "stream",
     "text": [
      "Epoch 1/10\n",
      "50/50 [==============================] - 9s 162ms/step - loss: 0.4625 - acc: 0.7836 - val_loss: 0.4056 - val_acc: 0.8020\n",
      "Epoch 2/10\n",
      "50/50 [==============================] - 8s 157ms/step - loss: 0.4387 - acc: 0.8011 - val_loss: 0.4917 - val_acc: 0.7640\n",
      "Epoch 3/10\n",
      "50/50 [==============================] - 8s 155ms/step - loss: 0.4252 - acc: 0.8055 - val_loss: 0.4438 - val_acc: 0.7893\n",
      "Epoch 4/10\n",
      "50/50 [==============================] - 8s 154ms/step - loss: 0.4312 - acc: 0.8087 - val_loss: 0.3734 - val_acc: 0.8274\n",
      "Epoch 5/10\n",
      "50/50 [==============================] - 8s 154ms/step - loss: 0.4138 - acc: 0.8093 - val_loss: 0.4008 - val_acc: 0.8122\n",
      "Epoch 6/10\n",
      "50/50 [==============================] - 8s 154ms/step - loss: 0.4003 - acc: 0.8262 - val_loss: 0.4203 - val_acc: 0.8096\n",
      "Epoch 7/10\n",
      "50/50 [==============================] - 8s 155ms/step - loss: 0.4116 - acc: 0.7999 - val_loss: 0.4841 - val_acc: 0.7766\n",
      "Epoch 8/10\n",
      "50/50 [==============================] - 8s 154ms/step - loss: 0.3936 - acc: 0.8149 - val_loss: 0.2668 - val_acc: 0.8883\n",
      "Epoch 9/10\n",
      "50/50 [==============================] - 8s 154ms/step - loss: 0.3815 - acc: 0.8306 - val_loss: 0.5799 - val_acc: 0.7563\n",
      "Epoch 10/10\n",
      "50/50 [==============================] - 8s 154ms/step - loss: 0.3760 - acc: 0.8338 - val_loss: 0.3198 - val_acc: 0.8655\n"
     ]
    }
   ],
   "source": [
    "history = model.fit(\n",
    "    train_generator,\n",
    "    epochs=10,\n",
    "    validation_data=validation_generator\n",
    ")"
   ]
  },
  {
   "cell_type": "code",
   "execution_count": 17,
   "id": "a94a43ce",
   "metadata": {},
   "outputs": [
    {
     "data": {
      "text/plain": [
       "0.41862603425979616"
      ]
     },
     "execution_count": 17,
     "metadata": {},
     "output_type": "execute_result"
    }
   ],
   "source": [
    "np.mean(history.history['val_loss'])"
   ]
  },
  {
   "cell_type": "markdown",
   "id": "5ffa0816",
   "metadata": {},
   "source": [
    "---\n",
    "\n",
    "### Question 6\n",
    "\n",
    "What's the average of test accuracy for the last 5 epochs (from 6 to 10)\n",
    "for the model trained with augmentations?\n",
    "\n",
    "- **0.84**\n",
    "- 0.54\n",
    "- 0.44\n",
    "- 0.24"
   ]
  },
  {
   "cell_type": "code",
   "execution_count": 18,
   "id": "a90c6324",
   "metadata": {},
   "outputs": [
    {
     "data": {
      "text/plain": [
       "0.8192893147468567"
      ]
     },
     "execution_count": 18,
     "metadata": {},
     "output_type": "execute_result"
    }
   ],
   "source": [
    "np.mean(history.history['val_acc'][-5:])"
   ]
  },
  {
   "cell_type": "markdown",
   "id": "6beca3e2",
   "metadata": {},
   "source": [
    "---\n",
    "\n",
    "## Submit the results\n",
    "\n",
    "- Submit your results here: https://forms.gle/XdH5ztBddvTvxzpT6\n",
    "- You can submit your solution multiple times. In this case, only the last submission will be used\n",
    "- If your answer doesn't match options exactly, select the closest one\n",
    "\n",
    "\n",
    "## Deadline\n",
    "\n",
    "The deadline for submitting is 21 November 2022, 23:00 CEST.\n",
    "\n",
    "After that, the form will be closed."
   ]
  },
  {
   "cell_type": "markdown",
   "id": "5dbfedaf-7bfd-435a-b561-f22e3e4e8642",
   "metadata": {},
   "source": [
    "--- \n",
    "\n",
    "# Learning in Public\n",
    "\n",
    "* https://twitter.com/David__Colton/status/1591760419714392064?s=20&t=tCW-IPHsCRYaeEZ3uLCGCw\n",
    "* https://twitter.com/David__Colton/status/1591790353044197376?s=20&t=L3lLOoqrSHJ6GacqwbZNZA\n",
    "* https://twitter.com/David__Colton/status/1591794596874715136?s=20&t=k1ksVLLScWtOJYF9TCEJfg\n",
    "* https://twitter.com/David__Colton/status/1592648954457444352?s=20&t=o6ku8KtedaHt0xiH2c5faw\n",
    "* https://twitter.com/David__Colton/status/1592807007983370240?s=20&t=iczl6WTNuOcxbk7qk2Etrw\n",
    "* https://twitter.com/David__Colton/status/1594125809278914560?s=20&t=Eb6lYuAe2CTJ3aJ4mMtvhg\n",
    "* https://twitter.com/David__Colton/status/1594125809278914560?s=20&t=Eb6lYuAe2CTJ3aJ4mMtvhg\n",
    "* https://twitter.com/David__Colton/status/1594301509109366784?s=20&t=a3tZxY9xjDYCNDY-u5TbSg\n",
    "* https://twitter.com/David__Colton/status/1594304549128396801?s=20&t=lZUohS_qX5Ln991DOAheKA\n",
    "* https://twitter.com/David__Colton/status/1594325487119212545?s=20&t=b1pWzraX1UOmy1vqWBRHAw\n",
    "* https://twitter.com/David__Colton/status/1594612964036050945?s=20&t=LThGDcxBe-Aye148Sq7X7w\n",
    "* https://twitter.com/David__Colton/status/1594619087551926273?s=20&t=kfZYn3ouCo8FWNENSrpuDg\n",
    "* https://twitter.com/David__Colton/status/1594622227730911233?s=20&t=idxgHVanIvGTVvXuuGAozQ\n",
    "* https://twitter.com/David__Colton/status/1594680435753336833?s=20&t=ON7z61vPujVTWJ2y2T_Erwv\n",
    "* https://twitter.com/David__Colton/status/1594682207930847238?s=20&t=ipaFy4EZNv66x7al50COWA"
   ]
  }
 ],
 "metadata": {
  "kernelspec": {
   "display_name": "Python 3.10.8 64-bit ('3.10.8')",
   "language": "python",
   "name": "python3"
  },
  "language_info": {
   "codemirror_mode": {
    "name": "ipython",
    "version": 3
   },
   "file_extension": ".py",
   "mimetype": "text/x-python",
   "name": "python",
   "nbconvert_exporter": "python",
   "pygments_lexer": "ipython3",
   "version": "3.10.8"
  },
  "vscode": {
   "interpreter": {
    "hash": "db59280c26d2ffdda61a5290b6df8e5167d0bf3455f08338ea7a8519196e0062"
   }
  }
 },
 "nbformat": 4,
 "nbformat_minor": 5
}
