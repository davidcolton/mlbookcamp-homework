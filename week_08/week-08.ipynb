{
 "cells": [
  {
   "cell_type": "markdown",
   "id": "5dbfedaf-7bfd-435a-b561-f22e3e4e8642",
   "metadata": {},
   "source": [
    "--- \n",
    "\n",
    "# Learning in Public\n",
    "\n",
    "* https://twitter.com/David__Colton/status/1591760419714392064?s=20&t=tCW-IPHsCRYaeEZ3uLCGCw\n",
    "* https://twitter.com/David__Colton/status/1591790353044197376?s=20&t=L3lLOoqrSHJ6GacqwbZNZA\n",
    "* https://twitter.com/David__Colton/status/1591794596874715136?s=20&t=k1ksVLLScWtOJYF9TCEJfg\n",
    "* https://twitter.com/David__Colton/status/1592648954457444352?s=20&t=o6ku8KtedaHt0xiH2c5faw\n",
    "* https://twitter.com/David__Colton/status/1592807007983370240?s=20&t=iczl6WTNuOcxbk7qk2Etrw\n",
    "* https://twitter.com/David__Colton/status/1594125809278914560?s=20&t=Eb6lYuAe2CTJ3aJ4mMtvhg\n",
    "* https://twitter.com/David__Colton/status/1594125809278914560?s=20&t=Eb6lYuAe2CTJ3aJ4mMtvhg\n",
    "* https://twitter.com/David__Colton/status/1594301509109366784?s=20&t=a3tZxY9xjDYCNDY-u5TbSg\n",
    "* https://twitter.com/David__Colton/status/1594304549128396801?s=20&t=lZUohS_qX5Ln991DOAheKA\n",
    "* https://twitter.com/David__Colton/status/1594325487119212545?s=20&t=b1pWzraX1UOmy1vqWBRHAw\n",
    "* https://twitter.com/David__Colton/status/1594612964036050945?s=20&t=LThGDcxBe-Aye148Sq7X7w\n",
    "* https://twitter.com/David__Colton/status/1594619087551926273?s=20&t=kfZYn3ouCo8FWNENSrpuDg\n",
    "* https://twitter.com/David__Colton/status/1594622227730911233?s=20&t=idxgHVanIvGTVvXuuGAozQ\n",
    "* https://twitter.com/David__Colton/status/1594680435753336833?s=20&t=ON7z61vPujVTWJ2y2T_Erwv\n",
    "* https://twitter.com/David__Colton/status/1594682207930847238?s=20&t=ipaFy4EZNv66x7al50COWA"
   ]
  },
  {
   "cell_type": "code",
   "execution_count": null,
   "id": "0495d31f-6ea7-4f6f-a1f6-f25b35ec0ef0",
   "metadata": {},
   "outputs": [],
   "source": []
  }
 ],
 "metadata": {
  "kernelspec": {
   "display_name": "Python 3 (ipykernel)",
   "language": "python",
   "name": "python3"
  },
  "language_info": {
   "codemirror_mode": {
    "name": "ipython",
    "version": 3
   },
   "file_extension": ".py",
   "mimetype": "text/x-python",
   "name": "python",
   "nbconvert_exporter": "python",
   "pygments_lexer": "ipython3",
   "version": "3.10.4"
  }
 },
 "nbformat": 4,
 "nbformat_minor": 5
}
