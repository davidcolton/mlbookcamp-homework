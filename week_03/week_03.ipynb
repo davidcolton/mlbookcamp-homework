{
 "cells": [
  {
   "cell_type": "markdown",
   "id": "727f8a45-d99e-4aa8-86e7-b7691126f081",
   "metadata": {},
   "source": [
    "# Set up the environment\n",
    "\n",
    "You need to install Python, NumPy, Pandas, Matplotlib and Seaborn.\n",
    "\n",
    "Done and ready to go."
   ]
  },
  {
   "cell_type": "markdown",
   "id": "d1f300c8-6f9f-4cfb-8013-72d019a44b6a",
   "metadata": {
    "tags": []
   },
   "source": [
    "## Imports"
   ]
  },
  {
   "cell_type": "code",
   "execution_count": 1,
   "id": "9e8ccc87-dded-4bdb-bf91-1582a804e1de",
   "metadata": {},
   "outputs": [
    {
     "data": {
      "text/html": [
       "\n",
       "                <script type=\"application/javascript\" id=\"jupyter_black\">\n",
       "                (function() {\n",
       "                    if (window.IPython === undefined) {\n",
       "                        return\n",
       "                    }\n",
       "                    var msg = \"WARNING: it looks like you might have loaded \" +\n",
       "                        \"jupyter_black in a non-lab notebook with \" +\n",
       "                        \"`is_lab=True`. Please double check, and if \" +\n",
       "                        \"loading with `%load_ext` please review the README!\"\n",
       "                    console.log(msg)\n",
       "                    alert(msg)\n",
       "                })()\n",
       "                </script>\n",
       "                "
      ],
      "text/plain": [
       "<IPython.core.display.HTML object>"
      ]
     },
     "metadata": {},
     "output_type": "display_data"
    }
   ],
   "source": [
    "import jupyter_black\n",
    "\n",
    "jupyter_black.load()"
   ]
  },
  {
   "cell_type": "code",
   "execution_count": 2,
   "id": "e9ea3bea-f733-45f3-a040-bae78f526b9a",
   "metadata": {},
   "outputs": [],
   "source": [
    "import numpy as np\n",
    "import pandas as pd\n",
    "\n",
    "import seaborn as sns\n",
    "from matplotlib import pyplot as plt\n",
    "\n",
    "from sklearn.feature_extraction import DictVectorizer\n",
    "from sklearn.linear_model import LogisticRegression\n",
    "from sklearn.linear_model import Ridge\n",
    "from sklearn.metrics import mean_squared_error\n",
    "from sklearn.metrics import mutual_info_score\n",
    "from sklearn.model_selection import train_test_split\n",
    "\n",
    "\n",
    "%matplotlib inline"
   ]
  },
  {
   "cell_type": "markdown",
   "id": "e216c46e-3d6c-44d8-acfc-aa20f3119ea2",
   "metadata": {
    "tags": []
   },
   "source": [
    "---\n",
    "\n",
    "# Homework\n",
    "\n",
    "> Note: sometimes your answer doesn't match one of the options exactly. That's fine. Select the option that's closest to your solution.\n",
    "\n",
    "## Dataset\n",
    "\n",
    "In this homework, we will use the California Housing Prices data from Kaggle.\n",
    "\n",
    "Here's a wget-able link:\n",
    "\n",
    "* `wget https://raw.githubusercontent.com/alexeygrigorev/datasets/master/housing.csv`\n",
    "\n",
    "We'll keep working with the 'median_house_value' variable, and we'll transform it to a classification task.\n",
    "\n",
    "## Features\n",
    "\n",
    "For the rest of the homework, you'll need to use only these columns:\n",
    "\n",
    "* latitude\n",
    "* longitude\n",
    "* housing_median_age\n",
    "* total_rooms\n",
    "* total_bedrooms\n",
    "* population\n",
    "* households\n",
    "* median_income\n",
    "* median_house_value\n",
    "* ocean_proximity\n"
   ]
  },
  {
   "cell_type": "code",
   "execution_count": 3,
   "id": "e1b49546-3131-45e0-8af7-df20b9eb8b06",
   "metadata": {},
   "outputs": [
    {
     "name": "stdout",
     "output_type": "stream",
     "text": [
      "--2022-09-25 00:34:12--  https://raw.githubusercontent.com/alexeygrigorev/datasets/master/housing.csv\n",
      "Resolving raw.githubusercontent.com (raw.githubusercontent.com)... 185.199.109.133, 185.199.111.133, 185.199.110.133, ...\n",
      "Connecting to raw.githubusercontent.com (raw.githubusercontent.com)|185.199.109.133|:443... connected.\n",
      "HTTP request sent, awaiting response... 200 OK\n",
      "Length: 1423529 (1.4M) [text/plain]\n",
      "Saving to: ‘housing.csv.2’\n",
      "\n",
      "housing.csv.2       100%[===================>]   1.36M  7.82MB/s    in 0.2s    \n",
      "\n",
      "2022-09-25 00:34:12 (7.82 MB/s) - ‘housing.csv.2’ saved [1423529/1423529]\n",
      "\n"
     ]
    }
   ],
   "source": [
    "# Let's get the data\n",
    "!wget https://raw.githubusercontent.com/alexeygrigorev/datasets/master/housing.csv"
   ]
  },
  {
   "cell_type": "markdown",
   "id": "1b29a8c0-588d-4db0-a3b0-e76a3744df33",
   "metadata": {},
   "source": [
    "---\n",
    "\n",
    "## Data preparation\n",
    "\n",
    "* Select only the features from above and fill in the missing values with 0.\n",
    "* Create a new column rooms_per_household by dividing the column total_rooms by the column households from dataframe.\n",
    "* Create a new column bedrooms_per_room by dividing the column total_bedrooms by the column total_rooms from dataframe.\n",
    "* Create a new column population_per_household by dividing the column population by the column households from dataframe."
   ]
  },
  {
   "cell_type": "code",
   "execution_count": 4,
   "id": "ec9f074d-76a2-4aba-b3a7-17c06f878cd7",
   "metadata": {},
   "outputs": [],
   "source": [
    "# Load the data\n",
    "df = pd.read_csv(\"housing.csv\")"
   ]
  },
  {
   "cell_type": "code",
   "execution_count": 5,
   "id": "6ede2bd6-d71f-4776-9fe4-9b9fa1900834",
   "metadata": {},
   "outputs": [
    {
     "data": {
      "text/plain": [
       "Index(['longitude', 'latitude', 'housing_median_age', 'total_rooms',\n",
       "       'total_bedrooms', 'population', 'households', 'median_income',\n",
       "       'median_house_value', 'ocean_proximity'],\n",
       "      dtype='object')"
      ]
     },
     "execution_count": 5,
     "metadata": {},
     "output_type": "execute_result"
    }
   ],
   "source": [
    "# No need to drop columns as the dataset only contains the required columns\n",
    "df.columns"
   ]
  },
  {
   "cell_type": "code",
   "execution_count": 6,
   "id": "46bdabff-2c41-4d1f-adb7-09bfca986662",
   "metadata": {},
   "outputs": [
    {
     "data": {
      "text/plain": [
       "longitude               0\n",
       "latitude                0\n",
       "housing_median_age      0\n",
       "total_rooms             0\n",
       "total_bedrooms        207\n",
       "population              0\n",
       "households              0\n",
       "median_income           0\n",
       "median_house_value      0\n",
       "ocean_proximity         0\n",
       "dtype: int64"
      ]
     },
     "execution_count": 6,
     "metadata": {},
     "output_type": "execute_result"
    }
   ],
   "source": [
    "# Fill in the missing values with 0\n",
    "# Check for missing values\n",
    "df.isnull().sum()"
   ]
  },
  {
   "cell_type": "code",
   "execution_count": 7,
   "id": "60db9a94-7734-49c7-bcaa-9ed92453007b",
   "metadata": {},
   "outputs": [],
   "source": [
    "# Fille missing values with 0\n",
    "df = df.fillna(0)"
   ]
  },
  {
   "cell_type": "code",
   "execution_count": 8,
   "id": "5ed739eb-efe5-4121-954e-22f6c1ebf59d",
   "metadata": {},
   "outputs": [],
   "source": [
    "# Create a new column rooms_per_household by\n",
    "#   dividing the column total_rooms by the column households from dataframe.\n",
    "df[\"rooms_per_household\"] = df.total_rooms / df.households"
   ]
  },
  {
   "cell_type": "code",
   "execution_count": 9,
   "id": "c07eb94b-50d0-4683-b0d8-98fab4f85039",
   "metadata": {},
   "outputs": [],
   "source": [
    "# Create a new column bedrooms_per_room by\n",
    "#   dividing the column total_bedrooms by the column total_rooms from dataframe.\n",
    "df[\"bedrooms_per_room\"] = df.total_bedrooms / df.total_rooms"
   ]
  },
  {
   "cell_type": "code",
   "execution_count": 10,
   "id": "04b2f33d-2240-4a64-b54f-7d1921bc3bbc",
   "metadata": {},
   "outputs": [],
   "source": [
    "# Create a new column population_per_household by\n",
    "#   dividing the column population by the column households from dataframe.\n",
    "df[\"population_per_household\"] = df.population / df.households"
   ]
  },
  {
   "cell_type": "markdown",
   "id": "c680691d-6174-4de0-9346-235176622a20",
   "metadata": {},
   "source": [
    "---\n",
    "\n",
    "## Question 1\n",
    "\n",
    "What is the most frequent observation (mode) for the column ocean_proximity?\n",
    "\n",
    "Options:\n",
    "\n",
    "* NEAR BAY\n",
    "* **<1H OCEAN**\n",
    "* INLAND\n",
    "* NEAR OCEAN"
   ]
  },
  {
   "cell_type": "code",
   "execution_count": 11,
   "id": "10e0f82c-3062-4ab3-b42b-750d51e831b7",
   "metadata": {},
   "outputs": [
    {
     "data": {
      "text/plain": [
       "0    <1H OCEAN\n",
       "Name: ocean_proximity, dtype: object"
      ]
     },
     "execution_count": 11,
     "metadata": {},
     "output_type": "execute_result"
    }
   ],
   "source": [
    "# Use mode to find the most common ocean proximity value\n",
    "df.ocean_proximity.mode()"
   ]
  },
  {
   "cell_type": "code",
   "execution_count": 12,
   "id": "8d923a3c-4492-49ec-9fae-fd98b355b84c",
   "metadata": {},
   "outputs": [
    {
     "data": {
      "text/plain": [
       "<1H OCEAN     9136\n",
       "INLAND        6551\n",
       "NEAR OCEAN    2658\n",
       "NEAR BAY      2290\n",
       "ISLAND           5\n",
       "Name: ocean_proximity, dtype: int64"
      ]
     },
     "execution_count": 12,
     "metadata": {},
     "output_type": "execute_result"
    }
   ],
   "source": [
    "# Veerify with value counts\n",
    "df.ocean_proximity.value_counts().sort_values(ascending=False)"
   ]
  },
  {
   "cell_type": "markdown",
   "id": "64721cea-e301-4a1e-99fc-43bf4ce6be15",
   "metadata": {},
   "source": [
    "---\n",
    "\n",
    "## Split the data\n",
    "\n",
    "* Split your data in train/val/test sets, with 60%/20%/20% distribution.\n",
    "* Use Scikit-Learn for that (the train_test_split function) and set the seed to 42.\n",
    "* Make sure that the target value (median_house_value) is not in your dataframe."
   ]
  },
  {
   "cell_type": "code",
   "execution_count": 13,
   "id": "14e07932-1160-4539-82de-d45ccd4a2acf",
   "metadata": {},
   "outputs": [],
   "source": [
    "# Function that takes a data frame and returns:\n",
    "#  - Train, Validation and Test dataframes\n",
    "#  - 60 / 20 / 20 split assumed\n",
    "#  - randon seed is an optional valiable\n",
    "def split_dataset(df, seed=42):\n",
    "    # Create Full Train and Test Train Data frames\n",
    "    df_train_full, df_test = train_test_split(df, test_size=0.2, random_state=seed)\n",
    "\n",
    "    # Split Full Train Data Set in Train and Validation\n",
    "    df_train, df_val = train_test_split(\n",
    "        df_train_full, test_size=0.25, random_state=seed\n",
    "    )\n",
    "\n",
    "    return df_train_full, df_train, df_val, df_test\n",
    "\n",
    "\n",
    "# Create the Data Frames for the model\n",
    "df_train_full, df_train, df_val, df_test = split_dataset(df)\n",
    "\n",
    "# The values to predict\n",
    "y_train_full = df_train.median_house_value.values\n",
    "y_train = df_train.median_house_value.values\n",
    "y_val = df_val.median_house_value.values\n",
    "\n",
    "# Remove target from Training / Validation datasets\n",
    "del df_train_full[\"median_house_value\"]\n",
    "del df_train[\"median_house_value\"]\n",
    "del df_val[\"median_house_value\"]"
   ]
  },
  {
   "cell_type": "markdown",
   "id": "ee2e1493-1667-4d22-a110-3379cf0cef77",
   "metadata": {},
   "source": [
    "---\n",
    "\n",
    "## Question 2\n",
    "\n",
    "* Create the correlation matrix for the numerical features of your train dataset.\n",
    "    * In a correlation matrix, you compute the correlation coefficient between every pair of features in the dataset.\n",
    "* What are the two features that have the biggest correlation in this dataset?\n",
    "\n",
    "Options:\n",
    "\n",
    "* **`total_bedrooms` and `households`**\n",
    "* `total_bedrooms` and `total_rooms`\n",
    "* `population` and `households`\n",
    "* `population_per_household` and `total_rooms`\n",
    "\n",
    "### Useful Links:\n",
    "\n",
    "* [Correlation Matrix](https://stackoverflow.com/questions/29432629/plot-correlation-matrix-using-pandas)\n",
    "* [Highest Correlation](https://stackoverflow.com/questions/17778394/list-highest-correlation-pairs-from-a-large-correlation-matrix-in-pandas)"
   ]
  },
  {
   "cell_type": "code",
   "execution_count": 14,
   "id": "6a87b3b3-59ff-4e43-9862-9656d6c16e5f",
   "metadata": {},
   "outputs": [
    {
     "data": {
      "text/html": [
       "<style type=\"text/css\">\n",
       "#T_2eaaa_row0_col0, #T_2eaaa_row1_col1, #T_2eaaa_row2_col2, #T_2eaaa_row3_col3, #T_2eaaa_row4_col4, #T_2eaaa_row5_col5, #T_2eaaa_row6_col6, #T_2eaaa_row7_col7, #T_2eaaa_row8_col8, #T_2eaaa_row9_col9, #T_2eaaa_row10_col10 {\n",
       "  background-color: #b40426;\n",
       "  color: #f1f1f1;\n",
       "}\n",
       "#T_2eaaa_row0_col1, #T_2eaaa_row1_col0, #T_2eaaa_row2_col3, #T_2eaaa_row2_col4, #T_2eaaa_row2_col5, #T_2eaaa_row2_col6, #T_2eaaa_row3_col2, #T_2eaaa_row4_col10, #T_2eaaa_row6_col10, #T_2eaaa_row7_col9, #T_2eaaa_row9_col7, #T_2eaaa_row9_col8 {\n",
       "  background-color: #3b4cc0;\n",
       "  color: #f1f1f1;\n",
       "}\n",
       "#T_2eaaa_row0_col2 {\n",
       "  background-color: #799cf8;\n",
       "  color: #f1f1f1;\n",
       "}\n",
       "#T_2eaaa_row0_col3, #T_2eaaa_row0_col4 {\n",
       "  background-color: #9dbdff;\n",
       "  color: #000000;\n",
       "}\n",
       "#T_2eaaa_row0_col5 {\n",
       "  background-color: #9ebeff;\n",
       "  color: #000000;\n",
       "}\n",
       "#T_2eaaa_row0_col6 {\n",
       "  background-color: #94b6ff;\n",
       "  color: #000000;\n",
       "}\n",
       "#T_2eaaa_row0_col7 {\n",
       "  background-color: #b7cff9;\n",
       "  color: #000000;\n",
       "}\n",
       "#T_2eaaa_row0_col8 {\n",
       "  background-color: #a2c1ff;\n",
       "  color: #000000;\n",
       "}\n",
       "#T_2eaaa_row0_col9 {\n",
       "  background-color: #cdd9ec;\n",
       "  color: #000000;\n",
       "}\n",
       "#T_2eaaa_row0_col10, #T_2eaaa_row2_col10 {\n",
       "  background-color: #485fd1;\n",
       "  color: #f1f1f1;\n",
       "}\n",
       "#T_2eaaa_row1_col2 {\n",
       "  background-color: #93b5fe;\n",
       "  color: #000000;\n",
       "}\n",
       "#T_2eaaa_row1_col3 {\n",
       "  background-color: #8caffe;\n",
       "  color: #000000;\n",
       "}\n",
       "#T_2eaaa_row1_col4 {\n",
       "  background-color: #7b9ff9;\n",
       "  color: #f1f1f1;\n",
       "}\n",
       "#T_2eaaa_row1_col5 {\n",
       "  background-color: #6a8bef;\n",
       "  color: #f1f1f1;\n",
       "}\n",
       "#T_2eaaa_row1_col6 {\n",
       "  background-color: #7699f6;\n",
       "  color: #f1f1f1;\n",
       "}\n",
       "#T_2eaaa_row1_col7, #T_2eaaa_row10_col8 {\n",
       "  background-color: #aac7fd;\n",
       "  color: #000000;\n",
       "}\n",
       "#T_2eaaa_row1_col8, #T_2eaaa_row7_col3 {\n",
       "  background-color: #c4d5f3;\n",
       "  color: #000000;\n",
       "}\n",
       "#T_2eaaa_row1_col9, #T_2eaaa_row9_col4 {\n",
       "  background-color: #9fbfff;\n",
       "  color: #000000;\n",
       "}\n",
       "#T_2eaaa_row1_col10, #T_2eaaa_row4_col2, #T_2eaaa_row9_col10 {\n",
       "  background-color: #4358cb;\n",
       "  color: #f1f1f1;\n",
       "}\n",
       "#T_2eaaa_row2_col0, #T_2eaaa_row5_col1 {\n",
       "  background-color: #c9d7f0;\n",
       "  color: #000000;\n",
       "}\n",
       "#T_2eaaa_row2_col1 {\n",
       "  background-color: #d8dce2;\n",
       "  color: #000000;\n",
       "}\n",
       "#T_2eaaa_row2_col7 {\n",
       "  background-color: #a1c0ff;\n",
       "  color: #000000;\n",
       "}\n",
       "#T_2eaaa_row2_col8 {\n",
       "  background-color: #80a3fa;\n",
       "  color: #f1f1f1;\n",
       "}\n",
       "#T_2eaaa_row2_col9, #T_2eaaa_row8_col0 {\n",
       "  background-color: #d3dbe7;\n",
       "  color: #000000;\n",
       "}\n",
       "#T_2eaaa_row3_col0 {\n",
       "  background-color: #dcdddd;\n",
       "  color: #000000;\n",
       "}\n",
       "#T_2eaaa_row3_col1 {\n",
       "  background-color: #d4dbe6;\n",
       "  color: #000000;\n",
       "}\n",
       "#T_2eaaa_row3_col4 {\n",
       "  background-color: #c73635;\n",
       "  color: #f1f1f1;\n",
       "}\n",
       "#T_2eaaa_row3_col5 {\n",
       "  background-color: #da5a49;\n",
       "  color: #f1f1f1;\n",
       "}\n",
       "#T_2eaaa_row3_col6 {\n",
       "  background-color: #ca3b37;\n",
       "  color: #f1f1f1;\n",
       "}\n",
       "#T_2eaaa_row3_col7, #T_2eaaa_row6_col0 {\n",
       "  background-color: #dedcdb;\n",
       "  color: #000000;\n",
       "}\n",
       "#T_2eaaa_row3_col8, #T_2eaaa_row6_col1 {\n",
       "  background-color: #cedaeb;\n",
       "  color: #000000;\n",
       "}\n",
       "#T_2eaaa_row3_col9 {\n",
       "  background-color: #90b2fe;\n",
       "  color: #000000;\n",
       "}\n",
       "#T_2eaaa_row3_col10 {\n",
       "  background-color: #3c4ec2;\n",
       "  color: #f1f1f1;\n",
       "}\n",
       "#T_2eaaa_row4_col0 {\n",
       "  background-color: #e0dbd8;\n",
       "  color: #000000;\n",
       "}\n",
       "#T_2eaaa_row4_col1 {\n",
       "  background-color: #cfdaea;\n",
       "  color: #000000;\n",
       "}\n",
       "#T_2eaaa_row4_col3 {\n",
       "  background-color: #c53334;\n",
       "  color: #f1f1f1;\n",
       "}\n",
       "#T_2eaaa_row4_col5 {\n",
       "  background-color: #d55042;\n",
       "  color: #f1f1f1;\n",
       "}\n",
       "#T_2eaaa_row4_col6 {\n",
       "  background-color: #ba162b;\n",
       "  color: #f1f1f1;\n",
       "}\n",
       "#T_2eaaa_row4_col7 {\n",
       "  background-color: #b9d0f9;\n",
       "  color: #000000;\n",
       "}\n",
       "#T_2eaaa_row4_col8 {\n",
       "  background-color: #adc9fd;\n",
       "  color: #000000;\n",
       "}\n",
       "#T_2eaaa_row4_col9 {\n",
       "  background-color: #cad8ef;\n",
       "  color: #000000;\n",
       "}\n",
       "#T_2eaaa_row5_col0 {\n",
       "  background-color: #e4d9d2;\n",
       "  color: #000000;\n",
       "}\n",
       "#T_2eaaa_row5_col2 {\n",
       "  background-color: #4a63d3;\n",
       "  color: #f1f1f1;\n",
       "}\n",
       "#T_2eaaa_row5_col3 {\n",
       "  background-color: #d85646;\n",
       "  color: #f1f1f1;\n",
       "}\n",
       "#T_2eaaa_row5_col4 {\n",
       "  background-color: #d44e41;\n",
       "  color: #f1f1f1;\n",
       "}\n",
       "#T_2eaaa_row5_col6, #T_2eaaa_row6_col5 {\n",
       "  background-color: #cd423b;\n",
       "  color: #f1f1f1;\n",
       "}\n",
       "#T_2eaaa_row5_col7, #T_2eaaa_row10_col7, #T_2eaaa_row10_col9 {\n",
       "  background-color: #bad0f8;\n",
       "  color: #000000;\n",
       "}\n",
       "#T_2eaaa_row5_col8 {\n",
       "  background-color: #98b9ff;\n",
       "  color: #000000;\n",
       "}\n",
       "#T_2eaaa_row5_col9 {\n",
       "  background-color: #c0d4f5;\n",
       "  color: #000000;\n",
       "}\n",
       "#T_2eaaa_row5_col10 {\n",
       "  background-color: #5875e1;\n",
       "  color: #f1f1f1;\n",
       "}\n",
       "#T_2eaaa_row6_col2 {\n",
       "  background-color: #465ecf;\n",
       "  color: #f1f1f1;\n",
       "}\n",
       "#T_2eaaa_row6_col3 {\n",
       "  background-color: #c83836;\n",
       "  color: #f1f1f1;\n",
       "}\n",
       "#T_2eaaa_row6_col4 {\n",
       "  background-color: #b8122a;\n",
       "  color: #f1f1f1;\n",
       "}\n",
       "#T_2eaaa_row6_col7, #T_2eaaa_row8_col3 {\n",
       "  background-color: #bcd2f7;\n",
       "  color: #000000;\n",
       "}\n",
       "#T_2eaaa_row6_col8, #T_2eaaa_row10_col2, #T_2eaaa_row10_col5 {\n",
       "  background-color: #96b7ff;\n",
       "  color: #000000;\n",
       "}\n",
       "#T_2eaaa_row6_col9, #T_2eaaa_row9_col1 {\n",
       "  background-color: #c5d6f2;\n",
       "  color: #000000;\n",
       "}\n",
       "#T_2eaaa_row7_col0 {\n",
       "  background-color: #d5dbe5;\n",
       "  color: #000000;\n",
       "}\n",
       "#T_2eaaa_row7_col1 {\n",
       "  background-color: #ccd9ed;\n",
       "  color: #000000;\n",
       "}\n",
       "#T_2eaaa_row7_col2 {\n",
       "  background-color: #7396f5;\n",
       "  color: #f1f1f1;\n",
       "}\n",
       "#T_2eaaa_row7_col4 {\n",
       "  background-color: #88abfd;\n",
       "  color: #000000;\n",
       "}\n",
       "#T_2eaaa_row7_col5 {\n",
       "  background-color: #84a7fc;\n",
       "  color: #f1f1f1;\n",
       "}\n",
       "#T_2eaaa_row7_col6, #T_2eaaa_row10_col3 {\n",
       "  background-color: #8badfd;\n",
       "  color: #000000;\n",
       "}\n",
       "#T_2eaaa_row7_col8 {\n",
       "  background-color: #f1ccb8;\n",
       "  color: #000000;\n",
       "}\n",
       "#T_2eaaa_row7_col10, #T_2eaaa_row8_col10 {\n",
       "  background-color: #445acc;\n",
       "  color: #f1f1f1;\n",
       "}\n",
       "#T_2eaaa_row8_col1 {\n",
       "  background-color: #e7d7ce;\n",
       "  color: #000000;\n",
       "}\n",
       "#T_2eaaa_row8_col2 {\n",
       "  background-color: #6485ec;\n",
       "  color: #f1f1f1;\n",
       "}\n",
       "#T_2eaaa_row8_col4, #T_2eaaa_row9_col5 {\n",
       "  background-color: #8db0fe;\n",
       "  color: #000000;\n",
       "}\n",
       "#T_2eaaa_row8_col5 {\n",
       "  background-color: #6f92f3;\n",
       "  color: #f1f1f1;\n",
       "}\n",
       "#T_2eaaa_row8_col6 {\n",
       "  background-color: #7093f3;\n",
       "  color: #f1f1f1;\n",
       "}\n",
       "#T_2eaaa_row8_col7 {\n",
       "  background-color: #f5c4ac;\n",
       "  color: #000000;\n",
       "}\n",
       "#T_2eaaa_row8_col9 {\n",
       "  background-color: #506bda;\n",
       "  color: #f1f1f1;\n",
       "}\n",
       "#T_2eaaa_row9_col0 {\n",
       "  background-color: #e5d8d1;\n",
       "  color: #000000;\n",
       "}\n",
       "#T_2eaaa_row9_col2 {\n",
       "  background-color: #b3cdfb;\n",
       "  color: #000000;\n",
       "}\n",
       "#T_2eaaa_row9_col3 {\n",
       "  background-color: #6180e9;\n",
       "  color: #f1f1f1;\n",
       "}\n",
       "#T_2eaaa_row9_col6 {\n",
       "  background-color: #97b8ff;\n",
       "  color: #000000;\n",
       "}\n",
       "#T_2eaaa_row10_col0 {\n",
       "  background-color: #d9dce1;\n",
       "  color: #000000;\n",
       "}\n",
       "#T_2eaaa_row10_col1 {\n",
       "  background-color: #d7dce3;\n",
       "  color: #000000;\n",
       "}\n",
       "#T_2eaaa_row10_col4 {\n",
       "  background-color: #82a6fb;\n",
       "  color: #f1f1f1;\n",
       "}\n",
       "#T_2eaaa_row10_col6 {\n",
       "  background-color: #7ea1fa;\n",
       "  color: #f1f1f1;\n",
       "}\n",
       "</style>\n",
       "<table id=\"T_2eaaa\">\n",
       "  <thead>\n",
       "    <tr>\n",
       "      <th class=\"blank level0\" >&nbsp;</th>\n",
       "      <th id=\"T_2eaaa_level0_col0\" class=\"col_heading level0 col0\" >longitude</th>\n",
       "      <th id=\"T_2eaaa_level0_col1\" class=\"col_heading level0 col1\" >latitude</th>\n",
       "      <th id=\"T_2eaaa_level0_col2\" class=\"col_heading level0 col2\" >housing_median_age</th>\n",
       "      <th id=\"T_2eaaa_level0_col3\" class=\"col_heading level0 col3\" >total_rooms</th>\n",
       "      <th id=\"T_2eaaa_level0_col4\" class=\"col_heading level0 col4\" >total_bedrooms</th>\n",
       "      <th id=\"T_2eaaa_level0_col5\" class=\"col_heading level0 col5\" >population</th>\n",
       "      <th id=\"T_2eaaa_level0_col6\" class=\"col_heading level0 col6\" >households</th>\n",
       "      <th id=\"T_2eaaa_level0_col7\" class=\"col_heading level0 col7\" >median_income</th>\n",
       "      <th id=\"T_2eaaa_level0_col8\" class=\"col_heading level0 col8\" >rooms_per_household</th>\n",
       "      <th id=\"T_2eaaa_level0_col9\" class=\"col_heading level0 col9\" >bedrooms_per_room</th>\n",
       "      <th id=\"T_2eaaa_level0_col10\" class=\"col_heading level0 col10\" >population_per_household</th>\n",
       "    </tr>\n",
       "  </thead>\n",
       "  <tbody>\n",
       "    <tr>\n",
       "      <th id=\"T_2eaaa_level0_row0\" class=\"row_heading level0 row0\" >longitude</th>\n",
       "      <td id=\"T_2eaaa_row0_col0\" class=\"data row0 col0\" >1.000000</td>\n",
       "      <td id=\"T_2eaaa_row0_col1\" class=\"data row0 col1\" >-0.925005</td>\n",
       "      <td id=\"T_2eaaa_row0_col2\" class=\"data row0 col2\" >-0.099812</td>\n",
       "      <td id=\"T_2eaaa_row0_col3\" class=\"data row0 col3\" >0.036449</td>\n",
       "      <td id=\"T_2eaaa_row0_col4\" class=\"data row0 col4\" >0.063840</td>\n",
       "      <td id=\"T_2eaaa_row0_col5\" class=\"data row0 col5\" >0.091670</td>\n",
       "      <td id=\"T_2eaaa_row0_col6\" class=\"data row0 col6\" >0.049762</td>\n",
       "      <td id=\"T_2eaaa_row0_col7\" class=\"data row0 col7\" >-0.016426</td>\n",
       "      <td id=\"T_2eaaa_row0_col8\" class=\"data row0 col8\" >-0.034814</td>\n",
       "      <td id=\"T_2eaaa_row0_col9\" class=\"data row0 col9\" >0.102320</td>\n",
       "      <td id=\"T_2eaaa_row0_col10\" class=\"data row0 col10\" >0.011022</td>\n",
       "    </tr>\n",
       "    <tr>\n",
       "      <th id=\"T_2eaaa_level0_row1\" class=\"row_heading level0 row1\" >latitude</th>\n",
       "      <td id=\"T_2eaaa_row1_col0\" class=\"data row1 col0\" >-0.925005</td>\n",
       "      <td id=\"T_2eaaa_row1_col1\" class=\"data row1 col1\" >1.000000</td>\n",
       "      <td id=\"T_2eaaa_row1_col2\" class=\"data row1 col2\" >0.002477</td>\n",
       "      <td id=\"T_2eaaa_row1_col3\" class=\"data row1 col3\" >-0.025914</td>\n",
       "      <td id=\"T_2eaaa_row1_col4\" class=\"data row1 col4\" >-0.059730</td>\n",
       "      <td id=\"T_2eaaa_row1_col5\" class=\"data row1 col5\" >-0.100272</td>\n",
       "      <td id=\"T_2eaaa_row1_col6\" class=\"data row1 col6\" >-0.063529</td>\n",
       "      <td id=\"T_2eaaa_row1_col7\" class=\"data row1 col7\" >-0.076805</td>\n",
       "      <td id=\"T_2eaaa_row1_col8\" class=\"data row1 col8\" >0.119118</td>\n",
       "      <td id=\"T_2eaaa_row1_col9\" class=\"data row1 col9\" >-0.124507</td>\n",
       "      <td id=\"T_2eaaa_row1_col10\" class=\"data row1 col10\" >-0.002301</td>\n",
       "    </tr>\n",
       "    <tr>\n",
       "      <th id=\"T_2eaaa_level0_row2\" class=\"row_heading level0 row2\" >housing_median_age</th>\n",
       "      <td id=\"T_2eaaa_row2_col0\" class=\"data row2 col0\" >-0.099812</td>\n",
       "      <td id=\"T_2eaaa_row2_col1\" class=\"data row2 col1\" >0.002477</td>\n",
       "      <td id=\"T_2eaaa_row2_col2\" class=\"data row2 col2\" >1.000000</td>\n",
       "      <td id=\"T_2eaaa_row2_col3\" class=\"data row2 col3\" >-0.363522</td>\n",
       "      <td id=\"T_2eaaa_row2_col4\" class=\"data row2 col4\" >-0.324156</td>\n",
       "      <td id=\"T_2eaaa_row2_col5\" class=\"data row2 col5\" >-0.292476</td>\n",
       "      <td id=\"T_2eaaa_row2_col6\" class=\"data row2 col6\" >-0.306119</td>\n",
       "      <td id=\"T_2eaaa_row2_col7\" class=\"data row2 col7\" >-0.119591</td>\n",
       "      <td id=\"T_2eaaa_row2_col8\" class=\"data row2 col8\" >-0.181275</td>\n",
       "      <td id=\"T_2eaaa_row2_col9\" class=\"data row2 col9\" >0.129456</td>\n",
       "      <td id=\"T_2eaaa_row2_col10\" class=\"data row2 col10\" >0.012167</td>\n",
       "    </tr>\n",
       "    <tr>\n",
       "      <th id=\"T_2eaaa_level0_row3\" class=\"row_heading level0 row3\" >total_rooms</th>\n",
       "      <td id=\"T_2eaaa_row3_col0\" class=\"data row3 col0\" >0.036449</td>\n",
       "      <td id=\"T_2eaaa_row3_col1\" class=\"data row3 col1\" >-0.025914</td>\n",
       "      <td id=\"T_2eaaa_row3_col2\" class=\"data row3 col2\" >-0.363522</td>\n",
       "      <td id=\"T_2eaaa_row3_col3\" class=\"data row3 col3\" >1.000000</td>\n",
       "      <td id=\"T_2eaaa_row3_col4\" class=\"data row3 col4\" >0.931546</td>\n",
       "      <td id=\"T_2eaaa_row3_col5\" class=\"data row3 col5\" >0.853219</td>\n",
       "      <td id=\"T_2eaaa_row3_col6\" class=\"data row3 col6\" >0.921441</td>\n",
       "      <td id=\"T_2eaaa_row3_col7\" class=\"data row3 col7\" >0.198951</td>\n",
       "      <td id=\"T_2eaaa_row3_col8\" class=\"data row3 col8\" >0.168926</td>\n",
       "      <td id=\"T_2eaaa_row3_col9\" class=\"data row3 col9\" >-0.194185</td>\n",
       "      <td id=\"T_2eaaa_row3_col10\" class=\"data row3 col10\" >-0.029452</td>\n",
       "    </tr>\n",
       "    <tr>\n",
       "      <th id=\"T_2eaaa_level0_row4\" class=\"row_heading level0 row4\" >total_bedrooms</th>\n",
       "      <td id=\"T_2eaaa_row4_col0\" class=\"data row4 col0\" >0.063840</td>\n",
       "      <td id=\"T_2eaaa_row4_col1\" class=\"data row4 col1\" >-0.059730</td>\n",
       "      <td id=\"T_2eaaa_row4_col2\" class=\"data row4 col2\" >-0.324156</td>\n",
       "      <td id=\"T_2eaaa_row4_col3\" class=\"data row4 col3\" >0.931546</td>\n",
       "      <td id=\"T_2eaaa_row4_col4\" class=\"data row4 col4\" >1.000000</td>\n",
       "      <td id=\"T_2eaaa_row4_col5\" class=\"data row4 col5\" >0.877340</td>\n",
       "      <td id=\"T_2eaaa_row4_col6\" class=\"data row4 col6\" >0.979399</td>\n",
       "      <td id=\"T_2eaaa_row4_col7\" class=\"data row4 col7\" >-0.009833</td>\n",
       "      <td id=\"T_2eaaa_row4_col8\" class=\"data row4 col8\" >0.010381</td>\n",
       "      <td id=\"T_2eaaa_row4_col9\" class=\"data row4 col9\" >0.078094</td>\n",
       "      <td id=\"T_2eaaa_row4_col10\" class=\"data row4 col10\" >-0.034301</td>\n",
       "    </tr>\n",
       "    <tr>\n",
       "      <th id=\"T_2eaaa_level0_row5\" class=\"row_heading level0 row5\" >population</th>\n",
       "      <td id=\"T_2eaaa_row5_col0\" class=\"data row5 col0\" >0.091670</td>\n",
       "      <td id=\"T_2eaaa_row5_col1\" class=\"data row5 col1\" >-0.100272</td>\n",
       "      <td id=\"T_2eaaa_row5_col2\" class=\"data row5 col2\" >-0.292476</td>\n",
       "      <td id=\"T_2eaaa_row5_col3\" class=\"data row5 col3\" >0.853219</td>\n",
       "      <td id=\"T_2eaaa_row5_col4\" class=\"data row5 col4\" >0.877340</td>\n",
       "      <td id=\"T_2eaaa_row5_col5\" class=\"data row5 col5\" >1.000000</td>\n",
       "      <td id=\"T_2eaaa_row5_col6\" class=\"data row5 col6\" >0.906841</td>\n",
       "      <td id=\"T_2eaaa_row5_col7\" class=\"data row5 col7\" >-0.000849</td>\n",
       "      <td id=\"T_2eaaa_row5_col8\" class=\"data row5 col8\" >-0.076210</td>\n",
       "      <td id=\"T_2eaaa_row5_col9\" class=\"data row5 col9\" >0.031592</td>\n",
       "      <td id=\"T_2eaaa_row5_col10\" class=\"data row5 col10\" >0.064998</td>\n",
       "    </tr>\n",
       "    <tr>\n",
       "      <th id=\"T_2eaaa_level0_row6\" class=\"row_heading level0 row6\" >households</th>\n",
       "      <td id=\"T_2eaaa_row6_col0\" class=\"data row6 col0\" >0.049762</td>\n",
       "      <td id=\"T_2eaaa_row6_col1\" class=\"data row6 col1\" >-0.063529</td>\n",
       "      <td id=\"T_2eaaa_row6_col2\" class=\"data row6 col2\" >-0.306119</td>\n",
       "      <td id=\"T_2eaaa_row6_col3\" class=\"data row6 col3\" >0.921441</td>\n",
       "      <td id=\"T_2eaaa_row6_col4\" class=\"data row6 col4\" >0.979399</td>\n",
       "      <td id=\"T_2eaaa_row6_col5\" class=\"data row6 col5\" >0.906841</td>\n",
       "      <td id=\"T_2eaaa_row6_col6\" class=\"data row6 col6\" >1.000000</td>\n",
       "      <td id=\"T_2eaaa_row6_col7\" class=\"data row6 col7\" >0.011925</td>\n",
       "      <td id=\"T_2eaaa_row6_col8\" class=\"data row6 col8\" >-0.085832</td>\n",
       "      <td id=\"T_2eaaa_row6_col9\" class=\"data row6 col9\" >0.058004</td>\n",
       "      <td id=\"T_2eaaa_row6_col10\" class=\"data row6 col10\" >-0.032522</td>\n",
       "    </tr>\n",
       "    <tr>\n",
       "      <th id=\"T_2eaaa_level0_row7\" class=\"row_heading level0 row7\" >median_income</th>\n",
       "      <td id=\"T_2eaaa_row7_col0\" class=\"data row7 col0\" >-0.016426</td>\n",
       "      <td id=\"T_2eaaa_row7_col1\" class=\"data row7 col1\" >-0.076805</td>\n",
       "      <td id=\"T_2eaaa_row7_col2\" class=\"data row7 col2\" >-0.119591</td>\n",
       "      <td id=\"T_2eaaa_row7_col3\" class=\"data row7 col3\" >0.198951</td>\n",
       "      <td id=\"T_2eaaa_row7_col4\" class=\"data row7 col4\" >-0.009833</td>\n",
       "      <td id=\"T_2eaaa_row7_col5\" class=\"data row7 col5\" >-0.000849</td>\n",
       "      <td id=\"T_2eaaa_row7_col6\" class=\"data row7 col6\" >0.011925</td>\n",
       "      <td id=\"T_2eaaa_row7_col7\" class=\"data row7 col7\" >1.000000</td>\n",
       "      <td id=\"T_2eaaa_row7_col8\" class=\"data row7 col8\" >0.394154</td>\n",
       "      <td id=\"T_2eaaa_row7_col9\" class=\"data row7 col9\" >-0.616617</td>\n",
       "      <td id=\"T_2eaaa_row7_col10\" class=\"data row7 col10\" >-0.000454</td>\n",
       "    </tr>\n",
       "    <tr>\n",
       "      <th id=\"T_2eaaa_level0_row8\" class=\"row_heading level0 row8\" >rooms_per_household</th>\n",
       "      <td id=\"T_2eaaa_row8_col0\" class=\"data row8 col0\" >-0.034814</td>\n",
       "      <td id=\"T_2eaaa_row8_col1\" class=\"data row8 col1\" >0.119118</td>\n",
       "      <td id=\"T_2eaaa_row8_col2\" class=\"data row8 col2\" >-0.181275</td>\n",
       "      <td id=\"T_2eaaa_row8_col3\" class=\"data row8 col3\" >0.168926</td>\n",
       "      <td id=\"T_2eaaa_row8_col4\" class=\"data row8 col4\" >0.010381</td>\n",
       "      <td id=\"T_2eaaa_row8_col5\" class=\"data row8 col5\" >-0.076210</td>\n",
       "      <td id=\"T_2eaaa_row8_col6\" class=\"data row8 col6\" >-0.085832</td>\n",
       "      <td id=\"T_2eaaa_row8_col7\" class=\"data row8 col7\" >0.394154</td>\n",
       "      <td id=\"T_2eaaa_row8_col8\" class=\"data row8 col8\" >1.000000</td>\n",
       "      <td id=\"T_2eaaa_row8_col9\" class=\"data row8 col9\" >-0.500589</td>\n",
       "      <td id=\"T_2eaaa_row8_col10\" class=\"data row8 col10\" >0.001801</td>\n",
       "    </tr>\n",
       "    <tr>\n",
       "      <th id=\"T_2eaaa_level0_row9\" class=\"row_heading level0 row9\" >bedrooms_per_room</th>\n",
       "      <td id=\"T_2eaaa_row9_col0\" class=\"data row9 col0\" >0.102320</td>\n",
       "      <td id=\"T_2eaaa_row9_col1\" class=\"data row9 col1\" >-0.124507</td>\n",
       "      <td id=\"T_2eaaa_row9_col2\" class=\"data row9 col2\" >0.129456</td>\n",
       "      <td id=\"T_2eaaa_row9_col3\" class=\"data row9 col3\" >-0.194185</td>\n",
       "      <td id=\"T_2eaaa_row9_col4\" class=\"data row9 col4\" >0.078094</td>\n",
       "      <td id=\"T_2eaaa_row9_col5\" class=\"data row9 col5\" >0.031592</td>\n",
       "      <td id=\"T_2eaaa_row9_col6\" class=\"data row9 col6\" >0.058004</td>\n",
       "      <td id=\"T_2eaaa_row9_col7\" class=\"data row9 col7\" >-0.616617</td>\n",
       "      <td id=\"T_2eaaa_row9_col8\" class=\"data row9 col8\" >-0.500589</td>\n",
       "      <td id=\"T_2eaaa_row9_col9\" class=\"data row9 col9\" >1.000000</td>\n",
       "      <td id=\"T_2eaaa_row9_col10\" class=\"data row9 col10\" >-0.002851</td>\n",
       "    </tr>\n",
       "    <tr>\n",
       "      <th id=\"T_2eaaa_level0_row10\" class=\"row_heading level0 row10\" >population_per_household</th>\n",
       "      <td id=\"T_2eaaa_row10_col0\" class=\"data row10 col0\" >0.011022</td>\n",
       "      <td id=\"T_2eaaa_row10_col1\" class=\"data row10 col1\" >-0.002301</td>\n",
       "      <td id=\"T_2eaaa_row10_col2\" class=\"data row10 col2\" >0.012167</td>\n",
       "      <td id=\"T_2eaaa_row10_col3\" class=\"data row10 col3\" >-0.029452</td>\n",
       "      <td id=\"T_2eaaa_row10_col4\" class=\"data row10 col4\" >-0.034301</td>\n",
       "      <td id=\"T_2eaaa_row10_col5\" class=\"data row10 col5\" >0.064998</td>\n",
       "      <td id=\"T_2eaaa_row10_col6\" class=\"data row10 col6\" >-0.032522</td>\n",
       "      <td id=\"T_2eaaa_row10_col7\" class=\"data row10 col7\" >-0.000454</td>\n",
       "      <td id=\"T_2eaaa_row10_col8\" class=\"data row10 col8\" >0.001801</td>\n",
       "      <td id=\"T_2eaaa_row10_col9\" class=\"data row10 col9\" >-0.002851</td>\n",
       "      <td id=\"T_2eaaa_row10_col10\" class=\"data row10 col10\" >1.000000</td>\n",
       "    </tr>\n",
       "  </tbody>\n",
       "</table>\n"
      ],
      "text/plain": [
       "<pandas.io.formats.style.Styler at 0x16bc26980>"
      ]
     },
     "execution_count": 14,
     "metadata": {},
     "output_type": "execute_result"
    }
   ],
   "source": [
    "# Create a correlation matrix\n",
    "corr = df_train.corr()\n",
    "corr.style.background_gradient(cmap=\"coolwarm\")"
   ]
  },
  {
   "cell_type": "code",
   "execution_count": 15,
   "id": "4bd0f3b7-9951-49f4-9d17-c78d84695274",
   "metadata": {},
   "outputs": [
    {
     "data": {
      "text/plain": [
       "<AxesSubplot:>"
      ]
     },
     "execution_count": 15,
     "metadata": {},
     "output_type": "execute_result"
    },
    {
     "data": {
      "image/png": "[encoded data removed]",
      "text/plain": [
       "<Figure size 432x288 with 2 Axes>"
      ]
     },
     "metadata": {
      "needs_background": "light"
     },
     "output_type": "display_data"
    }
   ],
   "source": [
    "# Display using Seaborn\n",
    "sns.heatmap(\n",
    "    corr,\n",
    "    xticklabels=corr.columns.values,\n",
    "    yticklabels=corr.columns.values,\n",
    ")"
   ]
  },
  {
   "cell_type": "code",
   "execution_count": 16,
   "id": "2d6b9d48-8ab3-4282-b273-97cf2e4edfd0",
   "metadata": {},
   "outputs": [],
   "source": [
    "def get_redundant_pairs(df):\n",
    "    \"\"\"Get diagonal and lower triangular pairs of correlation matrix\"\"\"\n",
    "    pairs_to_drop = set()\n",
    "    cols = df.columns\n",
    "    for i in range(0, df.shape[1]):\n",
    "        for j in range(0, i + 1):\n",
    "            pairs_to_drop.add((cols[i], cols[j]))\n",
    "    return pairs_to_drop\n",
    "\n",
    "\n",
    "def get_top_abs_correlations(df, n=5):\n",
    "    au_corr = df.corr().abs().unstack()\n",
    "    labels_to_drop = get_redundant_pairs(df)\n",
    "    au_corr = au_corr.drop(labels=labels_to_drop).sort_values(ascending=False)\n",
    "    return au_corr[0:n]"
   ]
  },
  {
   "cell_type": "code",
   "execution_count": 17,
   "id": "4b468e6a-95ab-4c79-82cb-f0bac324fe2a",
   "metadata": {},
   "outputs": [
    {
     "name": "stdout",
     "output_type": "stream",
     "text": [
      "total_bedrooms  households    0.997812\n",
      "population      households    0.992294\n",
      "longitude       latitude      0.990133\n",
      "dtype: float64\n"
     ]
    }
   ],
   "source": [
    "# Get the highest correlation value\n",
    "print(get_top_abs_correlations(corr, 3))"
   ]
  },
  {
   "cell_type": "markdown",
   "id": "d5fcc7e2-cf76-42f5-add7-9c4de3b85857",
   "metadata": {},
   "source": [
    "---\n",
    "\n",
    "## Make median_house_value binary\n",
    "\n",
    "* We need to turn the `median_house_value` variable from numeric into binary.\n",
    "* Let's create a variable `above_average` which is 1 if the `median_house_value` is above its mean value and 0 otherwise.\n",
    "\n",
    "It is not clear here whether the mean value to use is for:\n",
    "\n",
    "* The full data set\n",
    "* The full training data set\n",
    "* The training data set\n",
    "* The validation data set\n",
    "* The test data set\n",
    "\n",
    "The most logical value to use is the mean from the full data set."
   ]
  },
  {
   "cell_type": "code",
   "execution_count": 18,
   "id": "96afbc85-8b64-43c4-8208-398bc6ba5191",
   "metadata": {},
   "outputs": [],
   "source": [
    "# Add the new binary `above_average` variable to the full data frame\n",
    "df[\"above_average\"] = np.where(\n",
    "    df.median_house_value > df.median_house_value.mean(), 1, 0\n",
    ")"
   ]
  },
  {
   "cell_type": "code",
   "execution_count": 19,
   "id": "c6fd2cc7-2b30-4d82-8bb2-75ec109e38c8",
   "metadata": {},
   "outputs": [
    {
     "data": {
      "text/plain": [
       "0    12255\n",
       "1     8385\n",
       "Name: above_average, dtype: int64"
      ]
     },
     "execution_count": 19,
     "metadata": {},
     "output_type": "execute_result"
    }
   ],
   "source": [
    "df[\"above_average\"].value_counts()"
   ]
  },
  {
   "cell_type": "code",
   "execution_count": 20,
   "id": "9b3bb238-e297-4058-8e3b-5c02ac37da1b",
   "metadata": {},
   "outputs": [],
   "source": [
    "# Create the Data Frames for the model\n",
    "df_train_full, df_train, df_val, df_test = split_dataset(df)\n",
    "\n",
    "# The values to predict\n",
    "y_train_full = df_train.above_average.values\n",
    "y_train = df_train.above_average.values\n",
    "y_val = df_val.above_average.values"
   ]
  },
  {
   "cell_type": "markdown",
   "id": "4ff87453-0cd4-420e-b16f-bcf699f60de7",
   "metadata": {},
   "source": [
    "---\n",
    "\n",
    "## Question 3\n",
    "\n",
    "* Calculate the mutual information score with the (binarized) price for the categorical variable that we have. Use the training set only.\n",
    "* What is the value of mutual information?\n",
    "* Round it to 2 decimal digits using round(score, 2)\n",
    "\n",
    "Options:\n",
    "\n",
    "* 0.26\n",
    "* 0\n",
    "* **0.10**\n",
    "* 0.16"
   ]
  },
  {
   "cell_type": "code",
   "execution_count": 21,
   "id": "bd357761-7359-4278-92c5-7db33fd81c57",
   "metadata": {},
   "outputs": [
    {
     "data": {
      "text/html": [
       "<div>\n",
       "<style scoped>\n",
       "    .dataframe tbody tr th:only-of-type {\n",
       "        vertical-align: middle;\n",
       "    }\n",
       "\n",
       "    .dataframe tbody tr th {\n",
       "        vertical-align: top;\n",
       "    }\n",
       "\n",
       "    .dataframe thead th {\n",
       "        text-align: right;\n",
       "    }\n",
       "</style>\n",
       "<table border=\"1\" class=\"dataframe\">\n",
       "  <thead>\n",
       "    <tr style=\"text-align: right;\">\n",
       "      <th></th>\n",
       "      <th>MI</th>\n",
       "    </tr>\n",
       "  </thead>\n",
       "  <tbody>\n",
       "    <tr>\n",
       "      <th>ocean_proximity</th>\n",
       "      <td>0.1</td>\n",
       "    </tr>\n",
       "  </tbody>\n",
       "</table>\n",
       "</div>"
      ],
      "text/plain": [
       "                  MI\n",
       "ocean_proximity  0.1"
      ]
     },
     "execution_count": 21,
     "metadata": {},
     "output_type": "execute_result"
    }
   ],
   "source": [
    "# Function to apply mutual info score function\n",
    "def calculate_mi(series):\n",
    "    return mutual_info_score(series, df_train.above_average)\n",
    "\n",
    "\n",
    "# The list of categorical variables\n",
    "categorical = [\"ocean_proximity\"]\n",
    "\n",
    "# Calculate and display mutual info score\n",
    "df_mi = df_train[categorical].apply(calculate_mi)\n",
    "df_mi = df_mi.sort_values(ascending=False).to_frame(name=\"MI\")\n",
    "df_mi.head().round(2)"
   ]
  },
  {
   "cell_type": "markdown",
   "id": "8164b264-994e-41de-a2e8-d86d175d5cef",
   "metadata": {},
   "source": [
    "---\n",
    "\n",
    "## Question 4\n",
    "\n",
    "* Now let's train a logistic regression\n",
    "* Remember that we have one categorical variable ocean_proximity in the data. Include it using one-hot encoding.\n",
    "* Fit the model on the training dataset.\n",
    "    * To make sure the results are reproducible across different versions of Scikit-Learn, fit the model with these parameters:\n",
    "    * `model = LogisticRegression(solver=\"liblinear\", C=1.0, max_iter=1000, random_state=42)`\n",
    "* Calculate the accuracy on the validation dataset and round it to 2 decimal digits.\n",
    "\n",
    "Options:\n",
    "\n",
    "* 0.60\n",
    "* 0.72\n",
    "* **0.84**\n",
    "* 0.95"
   ]
  },
  {
   "cell_type": "code",
   "execution_count": 22,
   "id": "12e792ad-aa80-4806-a72f-f9f497af0771",
   "metadata": {},
   "outputs": [],
   "source": [
    "# Define Numerical and Categorical Data\n",
    "\n",
    "# The list of categorical variables\n",
    "categorical = [\"ocean_proximity\"]\n",
    "\n",
    "# The list of numerical variables\n",
    "numerical = [\n",
    "    \"longitude\",\n",
    "    \"latitude\",\n",
    "    \"housing_median_age\",\n",
    "    \"total_rooms\",\n",
    "    \"total_bedrooms\",\n",
    "    \"population\",\n",
    "    \"households\",\n",
    "    \"median_income\",\n",
    "    \"rooms_per_household\",\n",
    "    \"bedrooms_per_room\",\n",
    "    \"population_per_household\",\n",
    "]\n",
    "\n",
    "# Create a Dictionary of the Training Data set Records\n",
    "train_dict = df_train[categorical + numerical].to_dict(orient=\"records\")\n",
    "\n",
    "# Create the DictVectorizer object, fit and transform\n",
    "# Giving the training data set\n",
    "dv = DictVectorizer(sparse=False)\n",
    "dv.fit(train_dict)\n",
    "X_train = dv.transform(train_dict)"
   ]
  },
  {
   "cell_type": "code",
   "execution_count": 23,
   "id": "cb431e54-0570-4a51-9418-aef8e14c3200",
   "metadata": {},
   "outputs": [
    {
     "data": {
      "text/plain": [
       "array(['bedrooms_per_room', 'households', 'housing_median_age',\n",
       "       'latitude', 'longitude', 'median_income',\n",
       "       'ocean_proximity=<1H OCEAN', 'ocean_proximity=INLAND',\n",
       "       'ocean_proximity=ISLAND', 'ocean_proximity=NEAR BAY',\n",
       "       'ocean_proximity=NEAR OCEAN', 'population',\n",
       "       'population_per_household', 'rooms_per_household',\n",
       "       'total_bedrooms', 'total_rooms'], dtype=object)"
      ]
     },
     "execution_count": 23,
     "metadata": {},
     "output_type": "execute_result"
    }
   ],
   "source": [
    "dv.get_feature_names_out()"
   ]
  },
  {
   "cell_type": "markdown",
   "id": "babc6d47-fd9d-41dc-8e59-6bcb6168ca00",
   "metadata": {},
   "source": [
    "#### Training logistic regression"
   ]
  },
  {
   "cell_type": "code",
   "execution_count": 24,
   "id": "a6c81f29-63aa-45d6-8c32-1ff42690266d",
   "metadata": {},
   "outputs": [
    {
     "data": {
      "text/html": [
       "<style>#sk-container-id-1 {color: black;background-color: white;}#sk-container-id-1 pre{padding: 0;}#sk-container-id-1 div.sk-toggleable {background-color: white;}#sk-container-id-1 label.sk-toggleable__label {cursor: pointer;display: block;width: 100%;margin-bottom: 0;padding: 0.3em;box-sizing: border-box;text-align: center;}#sk-container-id-1 label.sk-toggleable__label-arrow:before {content: \"▸\";float: left;margin-right: 0.25em;color: #696969;}#sk-container-id-1 label.sk-toggleable__label-arrow:hover:before {color: black;}#sk-container-id-1 div.sk-estimator:hover label.sk-toggleable__label-arrow:before {color: black;}#sk-container-id-1 div.sk-toggleable__content {max-height: 0;max-width: 0;overflow: hidden;text-align: left;background-color: #f0f8ff;}#sk-container-id-1 div.sk-toggleable__content pre {margin: 0.2em;color: black;border-radius: 0.25em;background-color: #f0f8ff;}#sk-container-id-1 input.sk-toggleable__control:checked~div.sk-toggleable__content {max-height: 200px;max-width: 100%;overflow: auto;}#sk-container-id-1 input.sk-toggleable__control:checked~label.sk-toggleable__label-arrow:before {content: \"▾\";}#sk-container-id-1 div.sk-estimator input.sk-toggleable__control:checked~label.sk-toggleable__label {background-color: #d4ebff;}#sk-container-id-1 div.sk-label input.sk-toggleable__control:checked~label.sk-toggleable__label {background-color: #d4ebff;}#sk-container-id-1 input.sk-hidden--visually {border: 0;clip: rect(1px 1px 1px 1px);clip: rect(1px, 1px, 1px, 1px);height: 1px;margin: -1px;overflow: hidden;padding: 0;position: absolute;width: 1px;}#sk-container-id-1 div.sk-estimator {font-family: monospace;background-color: #f0f8ff;border: 1px dotted black;border-radius: 0.25em;box-sizing: border-box;margin-bottom: 0.5em;}#sk-container-id-1 div.sk-estimator:hover {background-color: #d4ebff;}#sk-container-id-1 div.sk-parallel-item::after {content: \"\";width: 100%;border-bottom: 1px solid gray;flex-grow: 1;}#sk-container-id-1 div.sk-label:hover label.sk-toggleable__label {background-color: #d4ebff;}#sk-container-id-1 div.sk-serial::before {content: \"\";position: absolute;border-left: 1px solid gray;box-sizing: border-box;top: 0;bottom: 0;left: 50%;z-index: 0;}#sk-container-id-1 div.sk-serial {display: flex;flex-direction: column;align-items: center;background-color: white;padding-right: 0.2em;padding-left: 0.2em;position: relative;}#sk-container-id-1 div.sk-item {position: relative;z-index: 1;}#sk-container-id-1 div.sk-parallel {display: flex;align-items: stretch;justify-content: center;background-color: white;position: relative;}#sk-container-id-1 div.sk-item::before, #sk-container-id-1 div.sk-parallel-item::before {content: \"\";position: absolute;border-left: 1px solid gray;box-sizing: border-box;top: 0;bottom: 0;left: 50%;z-index: -1;}#sk-container-id-1 div.sk-parallel-item {display: flex;flex-direction: column;z-index: 1;position: relative;background-color: white;}#sk-container-id-1 div.sk-parallel-item:first-child::after {align-self: flex-end;width: 50%;}#sk-container-id-1 div.sk-parallel-item:last-child::after {align-self: flex-start;width: 50%;}#sk-container-id-1 div.sk-parallel-item:only-child::after {width: 0;}#sk-container-id-1 div.sk-dashed-wrapped {border: 1px dashed gray;margin: 0 0.4em 0.5em 0.4em;box-sizing: border-box;padding-bottom: 0.4em;background-color: white;}#sk-container-id-1 div.sk-label label {font-family: monospace;font-weight: bold;display: inline-block;line-height: 1.2em;}#sk-container-id-1 div.sk-label-container {text-align: center;}#sk-container-id-1 div.sk-container {/* jupyter's `normalize.less` sets `[hidden] { display: none; }` but bootstrap.min.css set `[hidden] { display: none !important; }` so we also need the `!important` here to be able to override the default hidden behavior on the sphinx rendered scikit-learn.org. See: https://github.com/scikit-learn/scikit-learn/issues/21755 */display: inline-block !important;position: relative;}#sk-container-id-1 div.sk-text-repr-fallback {display: none;}</style><div id=\"sk-container-id-1\" class=\"sk-top-container\"><div class=\"sk-text-repr-fallback\"><pre>LogisticRegression(max_iter=1000, random_state=42, solver=&#x27;liblinear&#x27;)</pre><b>In a Jupyter environment, please rerun this cell to show the HTML representation or trust the notebook. <br />On GitHub, the HTML representation is unable to render, please try loading this page with nbviewer.org.</b></div><div class=\"sk-container\" hidden><div class=\"sk-item\"><div class=\"sk-estimator sk-toggleable\"><input class=\"sk-toggleable__control sk-hidden--visually\" id=\"sk-estimator-id-1\" type=\"checkbox\" checked><label for=\"sk-estimator-id-1\" class=\"sk-toggleable__label sk-toggleable__label-arrow\">LogisticRegression</label><div class=\"sk-toggleable__content\"><pre>LogisticRegression(max_iter=1000, random_state=42, solver=&#x27;liblinear&#x27;)</pre></div></div></div></div></div>"
      ],
      "text/plain": [
       "LogisticRegression(max_iter=1000, random_state=42, solver='liblinear')"
      ]
     },
     "execution_count": 24,
     "metadata": {},
     "output_type": "execute_result"
    }
   ],
   "source": [
    "# Create the model\n",
    "model = LogisticRegression(solver=\"liblinear\", C=1.0, max_iter=1000, random_state=42)\n",
    "\n",
    "# Fit the model with the Training Data\n",
    "model.fit(X_train, y_train)"
   ]
  },
  {
   "cell_type": "code",
   "execution_count": 25,
   "id": "ce7f3c36-b979-4e14-8d98-43d7d64c52f2",
   "metadata": {},
   "outputs": [],
   "source": [
    "# Calculate the accuracy on the validation dataset and round it to 2 decimal digits\n",
    "\n",
    "# Create a Dictionary of the Validation Data set Records\n",
    "#   and transform\n",
    "val_dict = df_val[categorical + numerical].to_dict(orient=\"records\")\n",
    "X_val = dv.transform(val_dict)"
   ]
  },
  {
   "cell_type": "code",
   "execution_count": 26,
   "id": "b4993953-1645-4907-994c-41f7b3e51149",
   "metadata": {},
   "outputs": [
    {
     "data": {
      "text/plain": [
       "array([[0.92659756, 0.07340244],\n",
       "       [0.82204886, 0.17795114],\n",
       "       [0.04870942, 0.95129058],\n",
       "       ...,\n",
       "       [0.03664814, 0.96335186],\n",
       "       [0.14673774, 0.85326226],\n",
       "       [0.54428458, 0.45571542]])"
      ]
     },
     "execution_count": 26,
     "metadata": {},
     "output_type": "execute_result"
    }
   ],
   "source": [
    "# Show the model predictions\n",
    "model.predict_proba(X_val)"
   ]
  },
  {
   "cell_type": "code",
   "execution_count": 27,
   "id": "00763d1e-724c-4340-b724-802768bb6876",
   "metadata": {},
   "outputs": [
    {
     "data": {
      "text/plain": [
       "0.84"
      ]
     },
     "execution_count": 27,
     "metadata": {},
     "output_type": "execute_result"
    }
   ],
   "source": [
    "# Predict the validation above / below average using the model\n",
    "y_pred = model.predict_proba(X_val)[:, 1]\n",
    "\n",
    "# Convert probabilities to binary\n",
    "averages = y_pred > 0.5\n",
    "\n",
    "# Calculate the accuracy\n",
    "round((y_val == averages).mean(), 2)"
   ]
  },
  {
   "cell_type": "markdown",
   "id": "df479ab3-9304-46d4-9a20-7a7e26a8b6a1",
   "metadata": {},
   "source": [
    "---\n",
    "\n",
    "## Question 5\n",
    "\n",
    "* Let's find the least useful feature using the feature elimination technique.\n",
    "* Train a model with all these features (using the same parameters as in Q4).\n",
    "* Now exclude each feature from this set and train a model without it. Record the accuracy for each model.\n",
    "* For each feature, calculate the difference between the original accuracy and the accuracy without the feature.\n",
    "\n",
    "Which of following feature has the smallest difference?\n",
    "\n",
    "* `total_rooms`\n",
    "* `total_bedrooms`\n",
    "* `population`\n",
    "* **`households`**\n",
    "\n",
    "> note: the difference doesn't have to be positive"
   ]
  },
  {
   "cell_type": "code",
   "execution_count": 28,
   "id": "c0194e9a-6a3c-457f-be81-71546161d291",
   "metadata": {},
   "outputs": [],
   "source": [
    "# The feature\n",
    "features = [\"total_rooms\", \"total_bedrooms\", \"population\", \"households\"]"
   ]
  },
  {
   "cell_type": "code",
   "execution_count": 29,
   "id": "16c2b887-5e2a-446c-bb15-1d59b20264c3",
   "metadata": {},
   "outputs": [],
   "source": [
    "# Define a function to train the model, predict and calculate accuracy\n",
    "def model_pipe(features):\n",
    "\n",
    "    # Create a Dictionary of the Training Data set Records\n",
    "    train_dict = df_train[features].to_dict(orient=\"records\")\n",
    "\n",
    "    # Create the DictVectorizer object, fit and transform\n",
    "    # Giving the training data set\n",
    "    dv = DictVectorizer(sparse=False)\n",
    "    dv.fit(train_dict)\n",
    "    X_train = dv.transform(train_dict)\n",
    "\n",
    "    # Create the model\n",
    "    model = LogisticRegression(\n",
    "        solver=\"liblinear\", C=1.0, max_iter=1000, random_state=42\n",
    "    )\n",
    "\n",
    "    # Fit the model with the Training Data\n",
    "    model.fit(X_train, y_train)\n",
    "\n",
    "    # Calculate the accuracy on the validation dataset and round it to 2 decimal digits\n",
    "\n",
    "    # Create a Dictionary of the Validation Data set Records\n",
    "    #   and transform\n",
    "    val_dict = df_val[categorical + numerical].to_dict(orient=\"records\")\n",
    "    X_val = dv.transform(val_dict)\n",
    "\n",
    "    # Predict the validation above / below average using the model\n",
    "    y_pred = model.predict_proba(X_val)[:, 1]\n",
    "\n",
    "    # Convert probabilities to binary\n",
    "    averages = y_pred > 0.5\n",
    "\n",
    "    # Calculate the accuracy and return\n",
    "    return round((y_val == averages).mean(), 2)"
   ]
  },
  {
   "cell_type": "code",
   "execution_count": 30,
   "id": "ef967485-d5d1-4efd-890b-be31f93c5358",
   "metadata": {},
   "outputs": [],
   "source": [
    "# Calculate accuracy with all features\n",
    "all_features_acc = model_pipe(features)"
   ]
  },
  {
   "cell_type": "code",
   "execution_count": 31,
   "id": "59947af7-df65-4513-96e4-41d6136ee7bd",
   "metadata": {},
   "outputs": [
    {
     "name": "stdout",
     "output_type": "stream",
     "text": [
      "Without Feature: total_rooms\n",
      "Accuracy:        0.63\n",
      "Difference:      0.08\n",
      "Features Used:   ['total_bedrooms', 'population', 'households'] \n",
      "\n",
      "Without Feature: total_bedrooms\n",
      "Accuracy:        0.66\n",
      "Difference:      0.05\n",
      "Features Used:   ['total_rooms', 'population', 'households'] \n",
      "\n",
      "Without Feature: population\n",
      "Accuracy:        0.66\n",
      "Difference:      0.05\n",
      "Features Used:   ['total_rooms', 'total_bedrooms', 'households'] \n",
      "\n",
      "Without Feature: households\n",
      "Accuracy:        0.67\n",
      "Difference:      0.04\n",
      "Features Used:   ['total_rooms', 'total_bedrooms', 'population'] \n",
      "\n"
     ]
    }
   ],
   "source": [
    "# Iterate over the features, removing one at a time\n",
    "for n in range(4):\n",
    "    rm = features[n]\n",
    "    n_acc = model_pipe(features[:n] + features[n + 1 :])\n",
    "\n",
    "    print(f\"Without Feature: {rm}\")\n",
    "    print(f\"Accuracy:        {round(n_acc, 3)}\")\n",
    "    print(f\"Difference:      {round(abs(all_features_acc - n_acc), 2)}\")\n",
    "    print(f\"Features Used:   {features[:n] + features[n + 1 :]} \\n\")"
   ]
  },
  {
   "cell_type": "markdown",
   "id": "7c322644-a16f-4896-926f-a7ad2080636d",
   "metadata": {},
   "source": [
    "---\n",
    "\n",
    "## Question 6\n",
    "\n",
    "* For this question, we'll see how to use a linear regression model from Scikit-Learn\n",
    "* We'll need to use the original column 'median_house_value'. Apply the logarithmic transformation to this column.\n",
    "* Fit the Ridge regression model (model = Ridge(alpha=a, solver=\"sag\", random_state=42)) on the training data.\n",
    "* This model has a parameter alpha. Let's try the following values: [0, 0.01, 0.1, 1, 10]\n",
    "* Which of these alphas leads to the best RMSE on the validation set? Round your RMSE scores to 3 decimal digits.\n",
    "\n",
    "If there are multiple options, select the smallest alpha.\n",
    "\n",
    "Options:\n",
    "\n",
    "* **0**\n",
    "* 0.01\n",
    "* 0.1\n",
    "* 1\n",
    "* 10"
   ]
  },
  {
   "cell_type": "code",
   "execution_count": 32,
   "id": "78738c5d-f174-49d5-a989-f0046e982d11",
   "metadata": {},
   "outputs": [],
   "source": [
    "# Refresh the training / validation / test data and set y values\n",
    "\n",
    "# Create the Data Frames for the model\n",
    "df_train_full, df_train, df_val, df_test = split_dataset(df)\n",
    "\n",
    "# The values to predict\n",
    "y_train_full = df_train.median_house_value.values\n",
    "y_train = df_train.median_house_value.values\n",
    "y_val = df_val.median_house_value.values"
   ]
  },
  {
   "cell_type": "code",
   "execution_count": 33,
   "id": "3a8d97e2-28a4-459a-b439-d02690ee4bb0",
   "metadata": {},
   "outputs": [
    {
     "data": {
      "text/plain": [
       "[(0, 106337.775),\n",
       " (0.01, 106337.775),\n",
       " (0.1, 106337.775),\n",
       " (1, 106337.775),\n",
       " (10, 106337.778)]"
      ]
     },
     "execution_count": 33,
     "metadata": {},
     "output_type": "execute_result"
    }
   ],
   "source": [
    "# Create a Dictionary of the Training Data set Records\n",
    "train_dict = df_train[categorical + numerical].to_dict(orient=\"records\")\n",
    "\n",
    "# Create the DictVectorizer object, fit and transform\n",
    "# Giving the training data\n",
    "setdv = DictVectorizer(sparse=False)\n",
    "dv.fit(train_dict)\n",
    "X_train = dv.transform(train_dict)\n",
    "\n",
    "\n",
    "# Create a Dictionary of the Validation Data set Records\n",
    "#   and transform\n",
    "val_dict = df_val[categorical + numerical].to_dict(orient=\"records\")\n",
    "X_val = dv.transform(val_dict)\n",
    "\n",
    "results = []\n",
    "\n",
    "# Calculate the best (lowest) RMSE for various alpha values\n",
    "for alpha_ in [0, 0.01, 0.1, 1, 10]:\n",
    "    model = model = Ridge(alpha=alpha_, solver=\"sag\", random_state=42)\n",
    "    model.fit(X_train, y_train)\n",
    "\n",
    "    y_pred = model.predict(X_val)\n",
    "\n",
    "    score = np.sqrt(mean_squared_error(y_val, y_pred))\n",
    "\n",
    "    results.append((alpha_, round(score, 3)))\n",
    "\n",
    "sorted(results, key=lambda element: (element[1], element[0]))"
   ]
  },
  {
   "cell_type": "markdown",
   "id": "51fd8c27-d317-47f9-a0d5-fc4b38e40760",
   "metadata": {},
   "source": [
    "---\n",
    "\n",
    "# Learning in Public\n",
    "\n",
    "* https://twitter.com/David__Colton/status/1570914809276944387?s=20&t=eZO60u5QQNHcSkg-nECxlQ\n",
    "* https://twitter.com/David__Colton/status/1571053726156361731?s=20&t=-Pi6a3qo_7vWU6sO4yFfLQ\n",
    "* https://twitter.com/David__Colton/status/1571200545364254733?s=20&t=0JW9xokk1s-Nv5qPn0tasA\n",
    "* https://twitter.com/David__Colton/status/1571278188600238080?s=20&t=37XhD-mKRJ_9aK0SWqszEA\n",
    "* https://twitter.com/David__Colton/status/1571488901956526081?s=20&t=wIxNgvN28U6LGFpCSQ7J_g\n",
    "* https://twitter.com/David__Colton/status/1571949625178820608?s=20&t=G6LBsdp1BfZ6A42xnwqf6A\n",
    "* https://twitter.com/David__Colton/status/1571980606883635201?s=20&t=cxia6efxXTzVVwVtucx2LA\n",
    "* https://twitter.com/David__Colton/status/1572293070510759938?s=20&t=lIqSfPUHXI64KwJxY5BfUQ\n",
    "* https://twitter.com/David__Colton/status/1572308189802303490?s=20&t=8UiOn5sTFBHB6MCSV-yb1Q\n",
    "* https://twitter.com/David__Colton/status/1572716014844145666?s=20&t=Ve4R95j_pUJj1ZmYXxQWfg\n",
    "* https://twitter.com/David__Colton/status/1573064716716736512?s=20&t=f5Cto1UpRElKW1lqobRc_w\n",
    "* https://twitter.com/David__Colton/status/1573072103078772736?s=20&t=A6YkuyC9rqDxv74gLJmWvQ\n",
    "\n",
    "---\n",
    "\n",
    "* https://twitter.com/David__Colton/status/1571054541357056002?s=20&t=-Pi6a3qo_7vWU6sO4yFfLQ"
   ]
  },
  {
   "cell_type": "code",
   "execution_count": null,
   "id": "8e1adfd7-78c8-491d-84e5-89e3cce95a25",
   "metadata": {},
   "outputs": [],
   "source": []
  }
 ],
 "metadata": {
  "kernelspec": {
   "display_name": "Python 3 (ipykernel)",
   "language": "python",
   "name": "python3"
  },
  "language_info": {
   "codemirror_mode": {
    "name": "ipython",
    "version": 3
   },
   "file_extension": ".py",
   "mimetype": "text/x-python",
   "name": "python",
   "nbconvert_exporter": "python",
   "pygments_lexer": "ipython3",
   "version": "3.10.4"
  }
 },
 "nbformat": 4,
 "nbformat_minor": 5
}
