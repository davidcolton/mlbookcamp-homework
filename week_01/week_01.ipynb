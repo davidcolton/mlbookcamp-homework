{
 "cells": [
  {
   "cell_type": "markdown",
   "id": "d769d829-9680-4423-8f11-d92b533eb5b8",
   "metadata": {},
   "source": [
    "# Set up the environment\n",
    "\n",
    "You need to install Python, NumPy, Pandas, Matplotlib and Seaborn.\n",
    "\n",
    "Done and ready to go."
   ]
  },
  {
   "cell_type": "markdown",
   "id": "f2de1335-be17-46d1-9d62-fdcbef4f3cfd",
   "metadata": {
    "tags": []
   },
   "source": [
    "## Imports"
   ]
  },
  {
   "cell_type": "code",
   "execution_count": 1,
   "id": "dd6cf527-79a7-4c82-ab04-de725a420da5",
   "metadata": {},
   "outputs": [],
   "source": [
    "import numpy as np\n",
    "import pandas as pd "
   ]
  },
  {
   "cell_type": "markdown",
   "id": "da3bf893-a614-442b-bc36-f8baf5470cb3",
   "metadata": {},
   "source": [
    "---\n",
    "\n",
    "## Question 1\n",
    "\n",
    "What's the version of NumPy that you installed? \n",
    "\n",
    "You can get the version information using the `__version__` field:"
   ]
  },
  {
   "cell_type": "code",
   "execution_count": 2,
   "id": "6fa77a20-7f5f-452b-b70d-3602f19eb149",
   "metadata": {},
   "outputs": [
    {
     "data": {
      "text/plain": [
       "'1.23.2'"
      ]
     },
     "execution_count": 2,
     "metadata": {},
     "output_type": "execute_result"
    }
   ],
   "source": [
    "np.__version__"
   ]
  },
  {
   "cell_type": "markdown",
   "id": "21cc70e2-0ccd-4054-b79f-e42c0d7a8b65",
   "metadata": {},
   "source": [
    "---\n",
    "\n",
    "## Getting the data \n",
    "\n",
    "For this homework, we'll use the Car price dataset. Download it from \n",
    "[here](https://raw.githubusercontent.com/alexeygrigorev/mlbookcamp-code/master/chapter-02-car-price/data.csv).\n",
    "\n",
    "You can do it with wget:"
   ]
  },
  {
   "cell_type": "code",
   "execution_count": 3,
   "id": "f69c526e-77f6-4c5e-bd14-c3b7a5deaad5",
   "metadata": {},
   "outputs": [
    {
     "name": "stdout",
     "output_type": "stream",
     "text": [
      "--2022-09-08 19:09:42--  https://raw.githubusercontent.com/alexeygrigorev/mlbookcamp-code/master/chapter-02-car-price/data.csv\n",
      "Resolving raw.githubusercontent.com (raw.githubusercontent.com)... 185.199.109.133, 185.199.111.133, 185.199.110.133, ...\n",
      "Connecting to raw.githubusercontent.com (raw.githubusercontent.com)|185.199.109.133|:443... connected.\n",
      "HTTP request sent, awaiting response... 200 OK\n",
      "Length: 1475504 (1.4M) [text/plain]\n",
      "Saving to: ‘data.csv.2’\n",
      "\n",
      "data.csv.2          100%[===================>]   1.41M  8.30MB/s    in 0.2s    \n",
      "\n",
      "2022-09-08 19:09:43 (8.30 MB/s) - ‘data.csv.2’ saved [1475504/1475504]\n",
      "\n"
     ]
    }
   ],
   "source": [
    "!wget \"https://raw.githubusercontent.com/alexeygrigorev/mlbookcamp-code/master/chapter-02-car-price/data.csv\""
   ]
  },
  {
   "cell_type": "code",
   "execution_count": 4,
   "id": "35e7cc61-9286-4f17-9f3c-0b8a2eece6aa",
   "metadata": {},
   "outputs": [],
   "source": [
    "# Read the data into a Pandas Dataframe\n",
    "df = pd.read_csv('data.csv')"
   ]
  },
  {
   "cell_type": "markdown",
   "id": "a63e33ed-5755-4918-97f7-12997dfe5197",
   "metadata": {},
   "source": [
    "---\n",
    "\n",
    "### Question 2\n",
    "\n",
    "How many records are in the dataset?\n",
    "\n",
    "Here you need to specify the number of rows.\n",
    "\n",
    "- 16\n",
    "- 6572\n",
    "- **11914**\n",
    "- 18990"
   ]
  },
  {
   "cell_type": "code",
   "execution_count": 5,
   "id": "30097ec6-cb97-4d4c-b13d-5559865ddc90",
   "metadata": {},
   "outputs": [
    {
     "data": {
      "text/plain": [
       "(11914, 16)"
      ]
     },
     "execution_count": 5,
     "metadata": {},
     "output_type": "execute_result"
    }
   ],
   "source": [
    "# Use df.shape to get the shape of the Dataframe\n",
    "# The first element of the shape tuple is the number of rows\n",
    "df.shape"
   ]
  },
  {
   "cell_type": "markdown",
   "id": "ddd6d752-2cb8-4634-ad5b-bcc0d458ec94",
   "metadata": {},
   "source": [
    "---\n",
    "\n",
    "### Question 3\n",
    "\n",
    "Who are the most frequent car manufacturers (top-3) according to the dataset?\n",
    "\n",
    "- Chevrolet, Volkswagen, Toyota\n",
    "- Chevrolet, Ford, Toyota\n",
    "- Ford, Volkswagen, Toyota\n",
    "- **Chevrolet, Ford, Volkswagen**\n",
    "\n",
    "> **Note**: You should rely on \"Make\" column in this question."
   ]
  },
  {
   "cell_type": "code",
   "execution_count": 6,
   "id": "f90aa1e3-43bb-41d5-8b81-c22d59202a6e",
   "metadata": {},
   "outputs": [
    {
     "data": {
      "text/html": [
       "<div>\n",
       "<style scoped>\n",
       "    .dataframe tbody tr th:only-of-type {\n",
       "        vertical-align: middle;\n",
       "    }\n",
       "\n",
       "    .dataframe tbody tr th {\n",
       "        vertical-align: top;\n",
       "    }\n",
       "\n",
       "    .dataframe thead th {\n",
       "        text-align: right;\n",
       "    }\n",
       "</style>\n",
       "<table border=\"1\" class=\"dataframe\">\n",
       "  <thead>\n",
       "    <tr style=\"text-align: right;\">\n",
       "      <th></th>\n",
       "      <th>Make</th>\n",
       "      <th>count</th>\n",
       "    </tr>\n",
       "  </thead>\n",
       "  <tbody>\n",
       "    <tr>\n",
       "      <th>9</th>\n",
       "      <td>Chevrolet</td>\n",
       "      <td>1123</td>\n",
       "    </tr>\n",
       "    <tr>\n",
       "      <th>14</th>\n",
       "      <td>Ford</td>\n",
       "      <td>881</td>\n",
       "    </tr>\n",
       "    <tr>\n",
       "      <th>46</th>\n",
       "      <td>Volkswagen</td>\n",
       "      <td>809</td>\n",
       "    </tr>\n",
       "  </tbody>\n",
       "</table>\n",
       "</div>"
      ],
      "text/plain": [
       "          Make  count\n",
       "9    Chevrolet   1123\n",
       "14        Ford    881\n",
       "46  Volkswagen    809"
      ]
     },
     "execution_count": 6,
     "metadata": {},
     "output_type": "execute_result"
    }
   ],
   "source": [
    "# Groupby the Make\n",
    "#   get the size of each group\n",
    "#   reset the index and name the count column \"count\"\n",
    "#   sort on the count column decending\n",
    "#   we are only interested in the top 3 values\n",
    "df.groupby([\"Make\"]).size().reset_index(name = 'count').sort_values(['count'], ascending = [False]).head(3)"
   ]
  },
  {
   "cell_type": "markdown",
   "id": "142eb6ed-0515-4f2a-bb3b-7b87b443e999",
   "metadata": {},
   "source": [
    "---\n",
    "\n",
    "### Question 4\n",
    "\n",
    "What's the number of unique Audi car models in the dataset?\n",
    "\n",
    "- 3\n",
    "- 16\n",
    "- 26\n",
    "- **34**"
   ]
  },
  {
   "cell_type": "code",
   "execution_count": 7,
   "id": "c70f3496-13ce-4e27-8cf3-37ccba5005c6",
   "metadata": {},
   "outputs": [
    {
     "data": {
      "text/plain": [
       "34"
      ]
     },
     "execution_count": 7,
     "metadata": {},
     "output_type": "execute_result"
    }
   ],
   "source": [
    "# Filter on the Make \"Audi\"\n",
    "#   Get the unique number of Models\n",
    "df[df['Make'] == 'Audi']['Model'].nunique()"
   ]
  },
  {
   "cell_type": "markdown",
   "id": "79339a4d-6a12-4855-8f26-807f19e23146",
   "metadata": {},
   "source": [
    "---\n",
    "\n",
    "### Question 5\n",
    "\n",
    "How many columns in the dataset have missing values?\n",
    "\n",
    "- **5**\n",
    "- 6\n",
    "- 7\n",
    "- 8"
   ]
  },
  {
   "cell_type": "code",
   "execution_count": 8,
   "id": "2ef6a046-be11-4245-852d-b24adb226655",
   "metadata": {},
   "outputs": [
    {
     "data": {
      "text/html": [
       "<div>\n",
       "<style scoped>\n",
       "    .dataframe tbody tr th:only-of-type {\n",
       "        vertical-align: middle;\n",
       "    }\n",
       "\n",
       "    .dataframe tbody tr th {\n",
       "        vertical-align: top;\n",
       "    }\n",
       "\n",
       "    .dataframe thead th {\n",
       "        text-align: right;\n",
       "    }\n",
       "</style>\n",
       "<table border=\"1\" class=\"dataframe\">\n",
       "  <thead>\n",
       "    <tr style=\"text-align: right;\">\n",
       "      <th></th>\n",
       "      <th>index</th>\n",
       "      <th>count</th>\n",
       "    </tr>\n",
       "  </thead>\n",
       "  <tbody>\n",
       "    <tr>\n",
       "      <th>9</th>\n",
       "      <td>Market Category</td>\n",
       "      <td>3742</td>\n",
       "    </tr>\n",
       "    <tr>\n",
       "      <th>4</th>\n",
       "      <td>Engine HP</td>\n",
       "      <td>69</td>\n",
       "    </tr>\n",
       "    <tr>\n",
       "      <th>5</th>\n",
       "      <td>Engine Cylinders</td>\n",
       "      <td>30</td>\n",
       "    </tr>\n",
       "    <tr>\n",
       "      <th>8</th>\n",
       "      <td>Number of Doors</td>\n",
       "      <td>6</td>\n",
       "    </tr>\n",
       "    <tr>\n",
       "      <th>3</th>\n",
       "      <td>Engine Fuel Type</td>\n",
       "      <td>3</td>\n",
       "    </tr>\n",
       "  </tbody>\n",
       "</table>\n",
       "</div>"
      ],
      "text/plain": [
       "              index  count\n",
       "9   Market Category   3742\n",
       "4         Engine HP     69\n",
       "5  Engine Cylinders     30\n",
       "8   Number of Doors      6\n",
       "3  Engine Fuel Type      3"
      ]
     },
     "execution_count": 8,
     "metadata": {},
     "output_type": "execute_result"
    }
   ],
   "source": [
    "# Get the number of Nulls in the Dataframe\n",
    "#   Sum by column\n",
    "#   reset the index and name the count column \"count\"\n",
    "#   sort on the count column decending\n",
    "#   assign to a temporary dataframe\n",
    "#   from the temp dataframe we are only interested in values > 0\n",
    "df_tmp = df.isnull().sum().reset_index(name = 'count').sort_values(['count'], ascending = [False])\n",
    "df_tmp[df_tmp['count'] > 0]"
   ]
  },
  {
   "cell_type": "markdown",
   "id": "93cd0e78-0512-4402-8aa5-0a63200460b6",
   "metadata": {},
   "source": [
    "---\n",
    "\n",
    "### Question 6\n",
    "\n",
    "* Find the median value of \"Engine Cylinders\" column in the dataset.\n",
    "* Next, calculate the most frequent value of the same \"Engine Cylinders\".\n",
    "* Use the `fillna` method to fill the missing values in \"Engine Cylinders\" with the most frequent value from the previous step.\n",
    "* Now, calculate the median value of \"Engine Cylinders\" once again.\n",
    "\n",
    "Has it changed?\n",
    "\n",
    "> Hint: refer to existing `mode` and `median` functions to complete the task.\n",
    "\n",
    "- Yes\n",
    "- **No**"
   ]
  },
  {
   "cell_type": "code",
   "execution_count": 9,
   "id": "941f8fa7-be6d-4b6b-91b3-b6bb83a29e4f",
   "metadata": {},
   "outputs": [
    {
     "data": {
      "text/plain": [
       "6.0"
      ]
     },
     "execution_count": 9,
     "metadata": {},
     "output_type": "execute_result"
    }
   ],
   "source": [
    "# Find the median value of \"Engine Cylinders\"\n",
    "df['Engine Cylinders'].median()"
   ]
  },
  {
   "cell_type": "code",
   "execution_count": 10,
   "id": "93e3f1e2-b603-4a37-9e26-b692bdac7234",
   "metadata": {},
   "outputs": [
    {
     "data": {
      "text/plain": [
       "0    4.0\n",
       "Name: Engine Cylinders, dtype: float64"
      ]
     },
     "execution_count": 10,
     "metadata": {},
     "output_type": "execute_result"
    }
   ],
   "source": [
    "# Calculate the most frequent value of the same \"Engine Cylinders\"\n",
    "df['Engine Cylinders'].mode()"
   ]
  },
  {
   "cell_type": "code",
   "execution_count": 11,
   "id": "97b23e00-0639-4f70-adf0-14a3eeff2026",
   "metadata": {},
   "outputs": [],
   "source": [
    "# Use the fillna method to fill the missing values in \"Engine Cylinders\" with the most frequent value\n",
    "df['Engine Cylinders'] = df['Engine Cylinders'].fillna(df['Engine Cylinders'].mode()[0])"
   ]
  },
  {
   "cell_type": "code",
   "execution_count": 12,
   "id": "ea1a1060-15e6-4d13-b534-d6ca4bb533ac",
   "metadata": {},
   "outputs": [
    {
     "data": {
      "text/plain": [
       "6.0"
      ]
     },
     "execution_count": 12,
     "metadata": {},
     "output_type": "execute_result"
    }
   ],
   "source": [
    "# Find the median value of \"Engine Cylinders\"\n",
    "df['Engine Cylinders'].median()"
   ]
  },
  {
   "cell_type": "markdown",
   "id": "d90609df-bcf2-44db-ac54-634662425d7d",
   "metadata": {},
   "source": [
    "---\n",
    "\n",
    "### Question 7\n",
    "\n",
    "* Select all the \"Lotus\" cars from the dataset.\n",
    "* Select only columns \"Engine HP\", \"Engine Cylinders\".\n",
    "* Now drop all duplicated rows using `drop_duplicates` method (you should get a dataframe with 9 rows).\n",
    "* Get the underlying NumPy array. Let's call it `X`.\n",
    "* Compute matrix-matrix multiplication between the transpose of `X` and `X`. To get the transpose, use `X.T`. Let's call the result `XTX`.\n",
    "* Invert `XTX`.\n",
    "* Create an array `y` with values `[1100, 800, 750, 850, 1300, 1000, 1000, 1300, 800]`.\n",
    "* Multiply the inverse of `XTX` with the transpose of `X`, and then multiply the result by `y`. Call the result `w`.\n",
    "* What's the value of the first element of `w`?\n",
    "\n",
    "> **Note**: You just implemented linear regression. We'll talk about it in the next lesson.\n",
    "\n",
    "- -0.0723\n",
    "- 4.5949\n",
    "- 31.6537\n",
    "- 63.5643"
   ]
  },
  {
   "cell_type": "code",
   "execution_count": 13,
   "id": "87f8c03a-16fc-406d-b48b-e9882fc43361",
   "metadata": {},
   "outputs": [],
   "source": [
    "# Select all the \"Lotus\" cars from the dataset.\n",
    "# Select only columns \"Engine HP\", \"Engine Cylinders\".\n",
    "# Now drop all duplicated rows using drop_duplicates\n",
    "df_lotus = df[df[\"Make\"] == \"Lotus\"][[\"Engine HP\", \"Engine Cylinders\"]].drop_duplicates()"
   ]
  },
  {
   "cell_type": "code",
   "execution_count": 14,
   "id": "ff65947d-4323-446f-a208-3039ec7d5567",
   "metadata": {},
   "outputs": [
    {
     "data": {
      "text/plain": [
       "array([[189.,   4.],\n",
       "       [218.,   4.],\n",
       "       [217.,   4.],\n",
       "       [350.,   8.],\n",
       "       [400.,   6.],\n",
       "       [276.,   6.],\n",
       "       [345.,   6.],\n",
       "       [257.,   4.],\n",
       "       [240.,   4.]])"
      ]
     },
     "execution_count": 14,
     "metadata": {},
     "output_type": "execute_result"
    }
   ],
   "source": [
    "# Get the underlying NumPy array. Let's call it X\n",
    "X = np.array(df_lotus.values)\n",
    "X"
   ]
  },
  {
   "cell_type": "code",
   "execution_count": 15,
   "id": "4011848f-46e1-4fc3-8ee6-59fc18bebe95",
   "metadata": {},
   "outputs": [],
   "source": [
    "# Compute matrix-matrix multiplication between the transpose of X and X. \n",
    "# To get the transpose, use X.T. Let's call the result XTX\n",
    "XTX = X.T.dot(X)"
   ]
  },
  {
   "cell_type": "code",
   "execution_count": 16,
   "id": "7bb689b8-bf12-4f67-b100-d730467cf418",
   "metadata": {},
   "outputs": [],
   "source": [
    "# Invert XTX\n",
    "XTX_inverse = np.linalg.inv(XTX)"
   ]
  },
  {
   "cell_type": "code",
   "execution_count": 17,
   "id": "7ec33cfd-5058-4b8e-b1b6-9e763eecb8ab",
   "metadata": {},
   "outputs": [],
   "source": [
    "# Create an array y with values ...\n",
    "y = np.array([1100, 800, 750, 850, 1300, 1000, 1000, 1300, 800])"
   ]
  },
  {
   "cell_type": "code",
   "execution_count": 18,
   "id": "6b187b77-dd6a-4cfc-ae09-aa894790e999",
   "metadata": {},
   "outputs": [],
   "source": [
    "# Multiply the inverse of XTX with the transpose of X\n",
    "# Then multiply the result by y. \n",
    "# Call the result w\n",
    "w = XTX_inverse.dot(X.T).dot(y)"
   ]
  },
  {
   "cell_type": "code",
   "execution_count": 19,
   "id": "2401c6a5-169e-486b-aead-56f07b1c7561",
   "metadata": {},
   "outputs": [
    {
     "data": {
      "text/plain": [
       "4.5949448100945744"
      ]
     },
     "execution_count": 19,
     "metadata": {},
     "output_type": "execute_result"
    }
   ],
   "source": [
    "# What's the value of the first element of `w`?\n",
    "w[0]"
   ]
  },
  {
   "cell_type": "markdown",
   "id": "a278c0b1-f7f3-42d2-9e40-41f10493f838",
   "metadata": {},
   "source": [
    "---"
   ]
  },
  {
   "cell_type": "markdown",
   "id": "e0c6879d-d162-41a0-bed8-ec1e832a122d",
   "metadata": {},
   "source": [
    "# Learning in Public\n",
    "\n",
    "* https://twitter.com/David__Colton/status/1566819448941465605?s=20&t=GJGuC9OEzKMWn1lEfqwrZg\n",
    "* https://twitter.com/David__Colton/status/1566852824243359744?s=20&t=GJGuC9OEzKMWn1lEfqwrZg\n",
    "* https://twitter.com/David__Colton/status/1566853269783199746?s=20&t=GJGuC9OEzKMWn1lEfqwrZg\n",
    "* https://twitter.com/David__Colton/status/1566869459742105600?s=20&t=GJGuC9OEzKMWn1lEfqwrZg\n",
    "* https://twitter.com/David__Colton/status/1566874640772960256?s=20&t=GJGuC9OEzKMWn1lEfqwrZg\n",
    "* https://twitter.com/David__Colton/status/1566876044065390595?s=20&t=GJGuC9OEzKMWn1lEfqwrZg\n",
    "* https://twitter.com/David__Colton/status/1566880715270144000?s=20&t=GJGuC9OEzKMWn1lEfqwrZg\n",
    "* https://twitter.com/David__Colton/status/1567178518647152641?s=20&t=GJGuC9OEzKMWn1lEfqwrZg\n",
    "* https://twitter.com/David__Colton/status/1567593259991539714?s=20&t=GJGuC9OEzKMWn1lEfqwrZg\n",
    "* https://twitter.com/David__Colton/status/1567637214703587328?s=20&t=GJGuC9OEzKMWn1lEfqwrZg"
   ]
  },
  {
   "cell_type": "markdown",
   "id": "1d7333b7-51bc-4b48-849e-f262cc13bcca",
   "metadata": {},
   "source": [
    "---"
   ]
  }
 ],
 "metadata": {
  "kernelspec": {
   "display_name": "Python 3 (ipykernel)",
   "language": "python",
   "name": "python3"
  },
  "language_info": {
   "codemirror_mode": {
    "name": "ipython",
    "version": 3
   },
   "file_extension": ".py",
   "mimetype": "text/x-python",
   "name": "python",
   "nbconvert_exporter": "python",
   "pygments_lexer": "ipython3",
   "version": "3.10.4"
  }
 },
 "nbformat": 4,
 "nbformat_minor": 5
}
